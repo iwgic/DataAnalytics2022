{
 "cells": [
  {
   "cell_type": "code",
   "execution_count": 114,
   "outputs": [],
   "source": [
    "from cmdstanpy import CmdStanModel\n",
    "import arviz as az\n",
    "import numpy as np"
   ],
   "metadata": {
    "collapsed": false,
    "pycharm": {
     "name": "#%%\n"
    }
   }
  },
  {
   "cell_type": "code",
   "execution_count": 115,
   "outputs": [],
   "source": [
    "#F - number of letters in first name L - number of letters in last name N = (L+F)*100\n",
    "F = 5\n",
    "L = 6\n",
    "N = (L+F)*100"
   ],
   "metadata": {
    "collapsed": false,
    "pycharm": {
     "name": "#%%\n"
    }
   }
  },
  {
   "cell_type": "code",
   "execution_count": 116,
   "outputs": [],
   "source": [
    "data=dict(N=N)"
   ],
   "metadata": {
    "collapsed": false,
    "pycharm": {
     "name": "#%%\n"
    }
   }
  },
  {
   "cell_type": "code",
   "execution_count": 117,
   "outputs": [
    {
     "name": "stderr",
     "output_type": "stream",
     "text": [
      "INFO:cmdstanpy:found newer exe file, not recompiling\n"
     ]
    }
   ],
   "source": [
    "data_generator_code1 = CmdStanModel(stan_file = 'code_1.stan')"
   ],
   "metadata": {
    "collapsed": false,
    "pycharm": {
     "name": "#%%\n"
    }
   }
  },
  {
   "cell_type": "code",
   "execution_count": 118,
   "outputs": [
    {
     "name": "stderr",
     "output_type": "stream",
     "text": [
      "INFO:cmdstanpy:CmdStan start processing\n",
      "chain 1 |\u001B[33m          \u001B[0m| 00:00 Status\n",
      "chain 2 |\u001B[33m          \u001B[0m| 00:00 Status\u001B[A\n",
      "\n",
      "chain 3 |\u001B[33m          \u001B[0m| 00:00 Status\u001B[A\u001B[A\n",
      "\n",
      "\n",
      "chain 4 |\u001B[33m          \u001B[0m| 00:00 Status\u001B[A\u001B[A\u001B[A\n",
      "\n",
      "\n",
      "chain 1 |\u001B[34m▉         \u001B[0m| 00:00 Iteration:   1 / 1000 [  0%]  (Sampling)\n",
      "\n",
      "chain 3 |\u001B[34m▉         \u001B[0m| 00:00 Iteration:   1 / 1000 [  0%]  (Sampling)\u001B[A\u001B[A\n",
      "chain 2 |\u001B[34m▉         \u001B[0m| 00:00 Iteration:   1 / 1000 [  0%]  (Sampling)\u001B[A\n",
      "\n",
      "\n",
      "chain 1 |\u001B[34m█▊        \u001B[0m| 00:00 Iteration: 200 / 1000 [ 20%]  (Sampling)\u001B[A\u001B[A\u001B[A\n",
      "\n",
      "chain 3 |\u001B[34m█▎        \u001B[0m| 00:00 Iteration: 100 / 1000 [ 10%]  (Sampling)\u001B[A\u001B[A\n",
      "chain 1 |\u001B[34m██▎       \u001B[0m| 00:00 Iteration: 300 / 1000 [ 30%]  (Sampling)\u001B[A\n",
      "\n",
      "\n",
      "chain 1 |\u001B[34m██▋       \u001B[0m| 00:00 Iteration: 400 / 1000 [ 40%]  (Sampling)\u001B[A\u001B[A\u001B[A\n",
      "\n",
      "chain 3 |\u001B[34m█▊        \u001B[0m| 00:00 Iteration: 200 / 1000 [ 20%]  (Sampling)\u001B[A\u001B[A\n",
      "chain 1 |\u001B[34m███▏      \u001B[0m| 00:00 Iteration: 500 / 1000 [ 50%]  (Sampling)\u001B[A\n",
      "\n",
      "\n",
      "chain 1 |\u001B[34m███▋      \u001B[0m| 00:01 Iteration: 600 / 1000 [ 60%]  (Sampling)\u001B[A\u001B[A\u001B[A\n",
      "\n",
      "\n",
      "chain 4 |\u001B[34m██▎       \u001B[0m| 00:01 Iteration: 300 / 1000 [ 30%]  (Sampling)\u001B[A\u001B[A\u001B[A\n",
      "\n",
      "chain 3 |\u001B[34m██▎       \u001B[0m| 00:01 Iteration: 300 / 1000 [ 30%]  (Sampling)\u001B[A\u001B[A\n",
      "chain 1 |\u001B[34m████      \u001B[0m| 00:01 Iteration: 700 / 1000 [ 70%]  (Sampling)\u001B[A\n",
      "\n",
      "\n",
      "chain 1 |\u001B[34m████▌     \u001B[0m| 00:01 Iteration: 800 / 1000 [ 80%]  (Sampling)\u001B[A\u001B[A\u001B[A\n",
      "chain 2 |\u001B[34m██▋       \u001B[0m| 00:01 Iteration: 400 / 1000 [ 40%]  (Sampling)\u001B[A\n",
      "\n",
      "\n",
      "chain 4 |\u001B[34m███▏      \u001B[0m| 00:01 Iteration: 500 / 1000 [ 50%]  (Sampling)\u001B[A\u001B[A\u001B[A\n",
      "\n",
      "chain 3 |\u001B[34m██▋       \u001B[0m| 00:01 Iteration: 400 / 1000 [ 40%]  (Sampling)\u001B[A\u001B[A\n",
      "\n",
      "\n",
      "chain 1 |\u001B[34m█████     \u001B[0m| 00:01 Iteration: 900 / 1000 [ 90%]  (Sampling)\u001B[A\u001B[A\u001B[A\n",
      "\n",
      "chain 3 |\u001B[34m███▏      \u001B[0m| 00:01 Iteration: 500 / 1000 [ 50%]  (Sampling)\u001B[A\u001B[A\n",
      "\n",
      "\n",
      "chain 4 |\u001B[34m████      \u001B[0m| 00:01 Iteration: 700 / 1000 [ 70%]  (Sampling)\u001B[A\u001B[A\u001B[A\n",
      "chain 2 |\u001B[34m███▏      \u001B[0m| 00:01 Iteration: 500 / 1000 [ 50%]  (Sampling)\u001B[A\n",
      "\n",
      "chain 3 |\u001B[34m███▋      \u001B[0m| 00:01 Iteration: 600 / 1000 [ 60%]  (Sampling)\u001B[A\u001B[A\n",
      "\n",
      "\n",
      "chain 4 |\u001B[34m████▌     \u001B[0m| 00:01 Iteration: 800 / 1000 [ 80%]  (Sampling)\u001B[A\u001B[A\u001B[A\n",
      "\n",
      "\n",
      "chain 4 |\u001B[34m█████     \u001B[0m| 00:01 Iteration: 900 / 1000 [ 90%]  (Sampling)\u001B[A\u001B[A\u001B[A\n",
      "chain 2 |\u001B[34m███▋      \u001B[0m| 00:01 Iteration: 600 / 1000 [ 60%]  (Sampling)\u001B[A\n",
      "\n",
      "chain 3 |\u001B[34m████      \u001B[0m| 00:01 Iteration: 700 / 1000 [ 70%]  (Sampling)\u001B[A\u001B[A\n",
      "chain 2 |\u001B[34m████      \u001B[0m| 00:02 Iteration: 700 / 1000 [ 70%]  (Sampling)\u001B[A\n",
      "\n",
      "chain 3 |\u001B[34m████▌     \u001B[0m| 00:02 Iteration: 800 / 1000 [ 80%]  (Sampling)\u001B[A\u001B[A\n",
      "chain 1 |\u001B[34m██████████\u001B[0m| 00:02 Sampling completed                      \u001B[A\n",
      "chain 2 |\u001B[34m██████████\u001B[0m| 00:02 Sampling completed                      \n",
      "\n",
      "\n",
      "chain 3 |\u001B[34m██████████\u001B[0m| 00:02 Sampling completed                      \u001B[A\u001B[A\n",
      "\n",
      "\n",
      "\n",
      "chain 4 |\u001B[34m██████████\u001B[0m| 00:02 Sampling completed                      \u001B[A\u001B[A\u001B[A"
     ]
    },
    {
     "name": "stdout",
     "output_type": "stream",
     "text": [
      "                                                                                                                                                                                                                                                                                                                                "
     ]
    },
    {
     "name": "stderr",
     "output_type": "stream",
     "text": [
      "\n",
      "INFO:cmdstanpy:CmdStan done processing.\n"
     ]
    },
    {
     "name": "stdout",
     "output_type": "stream",
     "text": [
      "\n"
     ]
    }
   ],
   "source": [
    "result_code1 = data_generator_code1.sample(data=data)"
   ],
   "metadata": {
    "collapsed": false,
    "pycharm": {
     "name": "#%%\n"
    }
   }
  },
  {
   "cell_type": "code",
   "execution_count": 119,
   "outputs": [
    {
     "name": "stderr",
     "output_type": "stream",
     "text": [
      "INFO:cmdstanpy:found newer exe file, not recompiling\n"
     ]
    }
   ],
   "source": [
    "data_generator_code2 = CmdStanModel(stan_file = 'code_2.stan')"
   ],
   "metadata": {
    "collapsed": false,
    "pycharm": {
     "name": "#%%\n"
    }
   }
  },
  {
   "cell_type": "code",
   "execution_count": 120,
   "outputs": [
    {
     "name": "stderr",
     "output_type": "stream",
     "text": [
      "INFO:cmdstanpy:CmdStan start processing\n",
      "chain 1 |\u001B[33m          \u001B[0m| 00:00 Status\n",
      "chain 2 |\u001B[33m          \u001B[0m| 00:00 Status\u001B[A\n",
      "\n",
      "chain 3 |\u001B[33m          \u001B[0m| 00:00 Status\u001B[A\u001B[A\n",
      "\n",
      "\n",
      "chain 1 |\u001B[34m▉         \u001B[0m| 00:00 Iteration:   1 / 1000 [  0%]  (Sampling)\n",
      "\n",
      "\n",
      "chain 4 |\u001B[34m▉         \u001B[0m| 00:00 Iteration:   1 / 1000 [  0%]  (Sampling)\u001B[A\u001B[A\u001B[A\n",
      "chain 2 |\u001B[34m▉         \u001B[0m| 00:00 Iteration:   1 / 1000 [  0%]  (Sampling)\u001B[A\n",
      "\n",
      "chain 1 |\u001B[34m█▎        \u001B[0m| 00:00 Iteration: 100 / 1000 [ 10%]  (Sampling)\u001B[A\u001B[A\n",
      "\n",
      "\n",
      "chain 4 |\u001B[34m█▎        \u001B[0m| 00:01 Iteration: 100 / 1000 [ 10%]  (Sampling)\u001B[A\u001B[A\u001B[A\n",
      "\n",
      "chain 3 |\u001B[34m█▎        \u001B[0m| 00:01 Iteration: 100 / 1000 [ 10%]  (Sampling)\u001B[A\u001B[A\n",
      "chain 1 |\u001B[34m█▊        \u001B[0m| 00:01 Iteration: 200 / 1000 [ 20%]  (Sampling)\u001B[A\n",
      "\n",
      "\n",
      "chain 4 |\u001B[34m█▊        \u001B[0m| 00:01 Iteration: 200 / 1000 [ 20%]  (Sampling)\u001B[A\u001B[A\u001B[A\n",
      "\n",
      "chain 3 |\u001B[34m█▊        \u001B[0m| 00:01 Iteration: 200 / 1000 [ 20%]  (Sampling)\u001B[A\u001B[A\n",
      "chain 1 |\u001B[34m██▎       \u001B[0m| 00:01 Iteration: 300 / 1000 [ 30%]  (Sampling)\u001B[A\n",
      "\n",
      "\n",
      "chain 4 |\u001B[34m██▎       \u001B[0m| 00:02 Iteration: 300 / 1000 [ 30%]  (Sampling)\u001B[A\u001B[A\u001B[A\n",
      "\n",
      "chain 1 |\u001B[34m██▋       \u001B[0m| 00:02 Iteration: 400 / 1000 [ 40%]  (Sampling)\u001B[A\u001B[A\n",
      "chain 2 |\u001B[34m██▎       \u001B[0m| 00:02 Iteration: 300 / 1000 [ 30%]  (Sampling)\u001B[A\n",
      "\n",
      "\n",
      "chain 4 |\u001B[34m██▋       \u001B[0m| 00:02 Iteration: 400 / 1000 [ 40%]  (Sampling)\u001B[A\u001B[A\u001B[A\n",
      "\n",
      "chain 1 |\u001B[34m███▏      \u001B[0m| 00:02 Iteration: 500 / 1000 [ 50%]  (Sampling)\u001B[A\u001B[A\n",
      "chain 2 |\u001B[34m██▋       \u001B[0m| 00:03 Iteration: 400 / 1000 [ 40%]  (Sampling)\u001B[A\n",
      "\n",
      "\n",
      "chain 1 |\u001B[34m███▋      \u001B[0m| 00:03 Iteration: 600 / 1000 [ 60%]  (Sampling)\u001B[A\u001B[A\u001B[A\n",
      "\n",
      "chain 3 |\u001B[34m███▏      \u001B[0m| 00:03 Iteration: 500 / 1000 [ 50%]  (Sampling)\u001B[A\u001B[A\n",
      "chain 2 |\u001B[34m███▏      \u001B[0m| 00:03 Iteration: 500 / 1000 [ 50%]  (Sampling)\u001B[A\n",
      "\n",
      "\n",
      "chain 1 |\u001B[34m████      \u001B[0m| 00:03 Iteration: 700 / 1000 [ 70%]  (Sampling)\u001B[A\u001B[A\u001B[A\n",
      "chain 2 |\u001B[34m███▋      \u001B[0m| 00:03 Iteration: 600 / 1000 [ 60%]  (Sampling)\u001B[A\n",
      "\n",
      "\n",
      "chain 4 |\u001B[34m████      \u001B[0m| 00:03 Iteration: 700 / 1000 [ 70%]  (Sampling)\u001B[A\u001B[A\u001B[A\n",
      "\n",
      "chain 3 |\u001B[34m███▋      \u001B[0m| 00:04 Iteration: 600 / 1000 [ 60%]  (Sampling)\u001B[A\u001B[A\n",
      "\n",
      "\n",
      "chain 1 |\u001B[34m████▌     \u001B[0m| 00:04 Iteration: 800 / 1000 [ 80%]  (Sampling)\u001B[A\u001B[A\u001B[A\n",
      "chain 2 |\u001B[34m████      \u001B[0m| 00:04 Iteration: 700 / 1000 [ 70%]  (Sampling)\u001B[A\n",
      "\n",
      "chain 3 |\u001B[34m████      \u001B[0m| 00:04 Iteration: 700 / 1000 [ 70%]  (Sampling)\u001B[A\u001B[A\n",
      "\n",
      "\n",
      "chain 1 |\u001B[34m█████     \u001B[0m| 00:04 Iteration: 900 / 1000 [ 90%]  (Sampling)\u001B[A\u001B[A\u001B[A\n",
      "chain 2 |\u001B[34m████▌     \u001B[0m| 00:04 Iteration: 800 / 1000 [ 80%]  (Sampling)\u001B[A\n",
      "\n",
      "chain 3 |\u001B[34m████▌     \u001B[0m| 00:05 Iteration: 800 / 1000 [ 80%]  (Sampling)\u001B[A\u001B[A\n",
      "chain 2 |\u001B[34m█████     \u001B[0m| 00:05 Iteration: 900 / 1000 [ 90%]  (Sampling)\u001B[A\n",
      "\n",
      "chain 1 |\u001B[34m██████████\u001B[0m| 00:05 Sampling completed                      \u001B[A\u001B[A\n",
      "chain 2 |\u001B[34m██████████\u001B[0m| 00:05 Sampling completed                      \n",
      "chain 3 |\u001B[34m██████████\u001B[0m| 00:05 Sampling completed                      \n",
      "\n",
      "\n",
      "\n",
      "chain 4 |\u001B[34m██████████\u001B[0m| 00:05 Sampling completed                      \u001B[A\u001B[A\u001B[A"
     ]
    },
    {
     "name": "stdout",
     "output_type": "stream",
     "text": [
      "                                                                                                                                                                                                                                                                                                                                "
     ]
    },
    {
     "name": "stderr",
     "output_type": "stream",
     "text": [
      "\n",
      "INFO:cmdstanpy:CmdStan done processing.\n"
     ]
    },
    {
     "name": "stdout",
     "output_type": "stream",
     "text": [
      "\n"
     ]
    }
   ],
   "source": [
    "result_code2 = data_generator_code2.sample(data=data)"
   ],
   "metadata": {
    "collapsed": false,
    "pycharm": {
     "name": "#%%\n"
    }
   }
  },
  {
   "cell_type": "code",
   "execution_count": 121,
   "outputs": [
    {
     "name": "stdout",
     "output_type": "stream",
     "text": [
      "1100\n"
     ]
    }
   ],
   "source": [
    "X_matrix = result_code2.stan_variable('X')[0]\n",
    "print(len(X_matrix))"
   ],
   "metadata": {
    "collapsed": false,
    "pycharm": {
     "name": "#%%\n"
    }
   }
  },
  {
   "cell_type": "code",
   "execution_count": 122,
   "outputs": [
    {
     "name": "stdout",
     "output_type": "stream",
     "text": [
      "      lp__  accept_stat__  theta      y[1]      y[2]      y[3]      y[4]  \\\n",
      "0      0.0            0.0   0.01  0.928244  1.435020 -0.072055 -1.024970   \n",
      "1      0.0            0.0   0.01 -0.146075  0.731404 -0.253398  1.912420   \n",
      "2      0.0            0.0   0.01 -0.539253 -0.684611  0.928896 -0.549313   \n",
      "3      0.0            0.0   0.01 -0.017911  0.921089  2.133110 -0.904384   \n",
      "4      0.0            0.0   0.01 -1.288520  0.808454  0.286422 -0.709091   \n",
      "...    ...            ...    ...       ...       ...       ...       ...   \n",
      "3995   0.0            0.0   0.01  1.126120 -1.591840  0.255215  0.402576   \n",
      "3996   0.0            0.0   0.01 -0.817862 -1.571360 -0.683985 -0.709174   \n",
      "3997   0.0            0.0   0.01 -0.358940  1.182910 -0.016336 -3.712480   \n",
      "3998   0.0            0.0   0.01 -0.281029 -1.483320 -0.632505  0.791640   \n",
      "3999   0.0            0.0   0.01  1.008880 -1.255510  0.208576  1.218300   \n",
      "\n",
      "          y[5]      y[6]      y[7]  ...   y[1091]    y[1092]   y[1093]  \\\n",
      "0    -0.660418  0.967406 -0.306441  ... -0.271414  -1.665700  0.456246   \n",
      "1     0.237243  0.291298  1.007960  ... -0.003282  23.263400 -0.952298   \n",
      "2    -0.338868 -0.828142  0.228461  ... -1.216140   0.789768 -2.003770   \n",
      "3     0.968050  0.324090 -8.120290  ... -1.593450   0.586542 -0.940605   \n",
      "4     0.251330  0.686853  0.612844  ... -0.205470   0.935574 -0.459852   \n",
      "...        ...       ...       ...  ...       ...        ...       ...   \n",
      "3995  1.148970 -0.655695  1.357540  ...  0.432556  -0.897720  0.601030   \n",
      "3996  1.621140  0.803914  0.019754  ... -0.960609  -0.620707 -0.600950   \n",
      "3997 -1.495290  1.199160 -0.031788  ... -1.285240  -1.567390 -0.436944   \n",
      "3998 -1.180790  1.081110 -2.274510  ... -0.371112   0.920422 -1.223280   \n",
      "3999 -2.088710 -1.429730  2.354900  ...  1.066240  -0.237456 -1.058810   \n",
      "\n",
      "       y[1094]   y[1095]   y[1096]   y[1097]   y[1098]   y[1099]   y[1100]  \n",
      "0     1.128580 -1.130430  1.095650  0.556033  1.713200  0.192340  0.539743  \n",
      "1     0.325466  0.725419  1.868740 -0.436961  0.239318  0.241494  0.052390  \n",
      "2     0.850041  1.178620 -0.201445 -2.450130  2.033590 -2.718360  0.713651  \n",
      "3    -1.623430  0.149367  0.866941  0.627113  1.565920 -2.098740  0.809553  \n",
      "4    -0.019340  0.142327 -0.940824 -0.278968  0.619741 -1.802050  1.312390  \n",
      "...        ...       ...       ...       ...       ...       ...       ...  \n",
      "3995 -0.492089  0.652785 -0.858475 -1.397400 -1.330490  0.626982 -0.393375  \n",
      "3996 -0.301564 -1.355630 -0.949641 -0.990853  1.592280 -0.881087 -0.730687  \n",
      "3997  0.483018 -0.206639 -0.196583  0.034621  0.889456  0.029642 -1.824420  \n",
      "3998 -0.108141 -0.299782  1.116170  0.684735 -0.604315  1.149760  0.218030  \n",
      "3999  1.404150 -1.367470  0.578438  0.667017  0.255842 -0.792329 -1.523390  \n",
      "\n",
      "[4000 rows x 1103 columns]\n"
     ]
    }
   ],
   "source": [
    "x_code1=result_code1.draws_pd()\n",
    "print(x_code1)"
   ],
   "metadata": {
    "collapsed": false,
    "pycharm": {
     "name": "#%%\n"
    }
   }
  },
  {
   "cell_type": "code",
   "execution_count": 123,
   "outputs": [
    {
     "name": "stdout",
     "output_type": "stream",
     "text": [
      "y[1]       0.083612\n",
      "y[2]       0.129942\n",
      "y[3]       0.116732\n",
      "y[4]       0.101555\n",
      "y[5]       0.153726\n",
      "             ...   \n",
      "y[1096]    0.124443\n",
      "y[1097]    0.085845\n",
      "y[1098]    0.026109\n",
      "y[1099]    0.059973\n",
      "y[1100]    0.091235\n",
      "Length: 1100, dtype: float64\n"
     ]
    }
   ],
   "source": [
    "y_code1=x_code1.iloc[:,3:]\n",
    "y_mean_code1=y_code1.mean()\n",
    "print(y_mean_code1)"
   ],
   "metadata": {
    "collapsed": false,
    "pycharm": {
     "name": "#%%\n"
    }
   }
  },
  {
   "cell_type": "code",
   "execution_count": 126,
   "outputs": [],
   "source": [
    "x_code2=result_code2.draws_pd()"
   ],
   "metadata": {
    "collapsed": false,
    "pycharm": {
     "name": "#%%\n"
    }
   }
  },
  {
   "cell_type": "code",
   "execution_count": 127,
   "outputs": [
    {
     "name": "stdout",
     "output_type": "stream",
     "text": [
      "          y[1]      y[2]      y[3]      y[4]      y[5]      y[6]      y[7]  \\\n",
      "0     4.376500 -2.860990 -4.067130  0.380568 -0.813188  3.596770  3.639040   \n",
      "1    -0.894995 -0.857765  1.469890  3.814870 -2.153120  0.258780  0.601617   \n",
      "2    -5.014660  1.910540  1.874840 -0.701165  0.995959  1.677080 -4.956000   \n",
      "3     1.247050  6.427220 -2.104770 -1.335880  1.270300 -0.978332  0.767279   \n",
      "4     3.168450 -0.290821  0.959031  0.579346 -2.331820  3.756710  0.171396   \n",
      "...        ...       ...       ...       ...       ...       ...       ...   \n",
      "3995  2.664130  1.534090  4.798940  3.028860  4.166350  0.856175 -0.830947   \n",
      "3996  0.002327 -2.889670  1.894130 -2.869410 -2.036640  0.183057  0.182062   \n",
      "3997 -3.439940 -0.041626  2.996290  1.826850 -0.214748  1.469420 -1.550260   \n",
      "3998 -0.453181 -3.041570 -3.395550 -4.903730  0.418632  0.652128 -1.107260   \n",
      "3999 -3.551560 -4.891420 -2.366810 -0.297354 -0.409409  0.351775  1.750720   \n",
      "\n",
      "          y[8]     y[9]     y[10]  ...   y[1091]   y[1092]   y[1093]  \\\n",
      "0     0.140386  1.52102  1.276580  ...  2.515220 -5.142290 -1.151650   \n",
      "1    -1.605520 -2.01583 -0.469405  ... -0.107736 -1.379330 -0.954744   \n",
      "2     1.068870 -1.02978 -1.421840  ...  1.061070  4.783380 -2.193710   \n",
      "3     1.256860  3.10443 -0.348564  ... -2.905780 -4.548710  0.913773   \n",
      "4    -1.418140 -1.91203 -2.145810  ... -2.192960 -0.721198 -5.923820   \n",
      "...        ...      ...       ...  ...       ...       ...       ...   \n",
      "3995  2.330450  2.27250 -3.115080  ...  2.361060 -0.617977 -0.614401   \n",
      "3996  0.756645 -2.35281 -4.061220  ... -0.824344 -0.669559  8.206160   \n",
      "3997 -2.997820 -3.61940 -3.795130  ... -0.761735  2.193480  1.386330   \n",
      "3998 -1.503120 -3.27093 -4.445620  ...  0.512394 -0.552295 -1.303240   \n",
      "3999 -0.167287  2.05479  2.777350  ... -0.367836 -4.166070 -0.522784   \n",
      "\n",
      "       y[1094]   y[1095]   y[1096]   y[1097]   y[1098]   y[1099]   y[1100]  \n",
      "0    -1.698160  1.692350 -1.979820 -1.978540  1.125450  1.013770 -0.216574  \n",
      "1    -1.823220 -0.516208  3.617700 -1.675520 -0.676671  1.920740 -0.639013  \n",
      "2     2.217720  1.056850  2.354110 -1.454300  0.262725 -0.079914 -1.439390  \n",
      "3     4.826040  2.024790  0.396654 -1.970400 -4.839090 -4.462670 -1.803690  \n",
      "4    -3.147120 -2.474280 -7.527380 -1.764700  3.646180 -1.954650 -5.645640  \n",
      "...        ...       ...       ...       ...       ...       ...       ...  \n",
      "3995 -2.122640 -3.756020 -1.075660 -0.139737  2.276990  0.140185  1.093010  \n",
      "3996  2.433670  4.945280 -1.376640 -1.616180  0.878156  4.438250 -2.633170  \n",
      "3997  0.143888 -1.455340  2.059530  0.640242  1.985640  0.003116  0.254880  \n",
      "3998 -1.080690  1.916920 -2.027890 -2.528850  1.897940 -0.787400 -0.348698  \n",
      "3999  0.377990 -2.309640  2.665320 -2.197230 -1.703500 -2.744930 -4.320670  \n",
      "\n",
      "[4000 rows x 1100 columns]\n"
     ]
    }
   ],
   "source": [
    "y_code2=x_code2.iloc[:,-1100:]\n",
    "print(x_code2.iloc[:,-1100:])"
   ],
   "metadata": {
    "collapsed": false,
    "pycharm": {
     "name": "#%%\n"
    }
   }
  },
  {
   "cell_type": "code",
   "execution_count": 128,
   "outputs": [],
   "source": [
    "y_mean_code2=y_code2.mean(axis=0)"
   ],
   "metadata": {
    "collapsed": false,
    "pycharm": {
     "name": "#%%\n"
    }
   }
  },
  {
   "cell_type": "code",
   "execution_count": 129,
   "outputs": [
    {
     "name": "stdout",
     "output_type": "stream",
     "text": [
      "y[1]       0.025524\n",
      "y[2]       0.052662\n",
      "y[3]       0.083085\n",
      "y[4]      -0.005775\n",
      "y[5]       0.010612\n",
      "             ...   \n",
      "y[1096]   -0.013063\n",
      "y[1097]    0.025348\n",
      "y[1098]   -0.017105\n",
      "y[1099]    0.007255\n",
      "y[1100]    0.034052\n",
      "Length: 1100, dtype: float64\n"
     ]
    }
   ],
   "source": [
    "print(y_mean_code2)"
   ],
   "metadata": {
    "collapsed": false,
    "pycharm": {
     "name": "#%%\n"
    }
   }
  },
  {
   "cell_type": "markdown",
   "source": [
    "Excercise 2 - compare normal and student models for data from first file"
   ],
   "metadata": {
    "collapsed": false,
    "pycharm": {
     "name": "#%% md\n"
    }
   }
  },
  {
   "cell_type": "code",
   "execution_count": 130,
   "outputs": [
    {
     "name": "stderr",
     "output_type": "stream",
     "text": [
      "INFO:cmdstanpy:found newer exe file, not recompiling\n",
      "INFO:cmdstanpy:CmdStan start processing\n",
      "chain 1 |\u001B[33m          \u001B[0m| 00:00 Status\n",
      "chain 2 |\u001B[33m          \u001B[0m| 00:00 Status\u001B[A\n",
      "\n",
      "chain 3 |\u001B[33m          \u001B[0m| 00:00 Status\u001B[A\u001B[A\n",
      "\n",
      "\n",
      "chain 4 |\u001B[33m          \u001B[0m| 00:00 Status\u001B[A\u001B[A\u001B[A\n",
      "chain 2 |\u001B[33m██▋       \u001B[0m| 00:00 Iteration:  400 / 2000 [ 20%]  (Warmup)\u001B[A\n",
      "\n",
      "chain 3 |\u001B[33m█▎        \u001B[0m| 00:00 Iteration:  100 / 2000 [  5%]  (Warmup)\u001B[A\u001B[A\n",
      "\n",
      "\n",
      "chain 1 |\u001B[33m▉         \u001B[0m| 00:00 Iteration:    1 / 2000 [  0%]  (Warmup)\u001B[A\u001B[A\u001B[A\n",
      "\n",
      "chain 3 |\u001B[33m████      \u001B[0m| 00:00 Iteration:  700 / 2000 [ 35%]  (Warmup)\u001B[A\u001B[A\n",
      "\n",
      "\n",
      "chain 1 |\u001B[33m██▋       \u001B[0m| 00:00 Iteration:  400 / 2000 [ 20%]  (Warmup)\u001B[A\u001B[A\u001B[A\n",
      "chain 1 |\u001B[34m█████▉    \u001B[0m| 00:00 Iteration: 1001 / 2000 [ 50%]  (Sampling)\u001B[A\n",
      "\n",
      "chain 3 |\u001B[34m██████▎   \u001B[0m| 00:00 Iteration: 1100 / 2000 [ 55%]  (Sampling)\u001B[A\u001B[A\n",
      "\n",
      "\n",
      "chain 4 |\u001B[34m█████▉    \u001B[0m| 00:00 Iteration: 1001 / 2000 [ 50%]  (Sampling)\u001B[A\u001B[A\u001B[A\n",
      "\n",
      "chain 1 |\u001B[34m███████▎  \u001B[0m| 00:01 Iteration: 1300 / 2000 [ 65%]  (Sampling)\u001B[A\u001B[A\n",
      "\n",
      "chain 3 |\u001B[34m████████▋ \u001B[0m| 00:01 Iteration: 1600 / 2000 [ 80%]  (Sampling)\u001B[A\u001B[A\n",
      "\n",
      "\n",
      "chain 4 |\u001B[34m███████▎  \u001B[0m| 00:01 Iteration: 1300 / 2000 [ 65%]  (Sampling)\u001B[A\u001B[A\u001B[A\n",
      "chain 1 |\u001B[34m████████▏ \u001B[0m| 00:01 Iteration: 1500 / 2000 [ 75%]  (Sampling)\u001B[A\n",
      "\n",
      "chain 3 |\u001B[34m█████████▌\u001B[0m| 00:02 Iteration: 1800 / 2000 [ 90%]  (Sampling)\u001B[A\u001B[A\n",
      "\n",
      "\n",
      "chain 1 |\u001B[34m█████████ \u001B[0m| 00:02 Iteration: 1700 / 2000 [ 85%]  (Sampling)\u001B[A\u001B[A\u001B[A\n",
      "chain 1 |\u001B[34m█████████▌\u001B[0m| 00:02 Iteration: 1800 / 2000 [ 90%]  (Sampling)\u001B[A\n",
      "\n",
      "\n",
      "chain 1 |\u001B[34m██████████\u001B[0m| 00:02 Iteration: 1900 / 2000 [ 95%]  (Sampling)\u001B[A\u001B[A\u001B[A\n",
      "chain 2 |\u001B[34m██████████\u001B[0m| 00:02 Iteration: 1900 / 2000 [ 95%]  (Sampling)\u001B[A\n",
      "\n",
      "\n",
      "chain 4 |\u001B[34m█████████▌\u001B[0m| 00:02 Iteration: 1800 / 2000 [ 90%]  (Sampling)\u001B[A\u001B[A\u001B[A\n",
      "\n",
      "\n",
      "chain 1 |\u001B[34m██████████\u001B[0m| 00:02 Sampling completed                       \u001B[A\u001B[A\u001B[A\n",
      "chain 2 |\u001B[34m██████████\u001B[0m| 00:02 Sampling completed                       \n",
      "chain 3 |\u001B[34m██████████\u001B[0m| 00:02 Sampling completed                       \n",
      "chain 4 |\u001B[34m██████████\u001B[0m| 00:02 Sampling completed                       "
     ]
    },
    {
     "name": "stdout",
     "output_type": "stream",
     "text": [
      "                                                                                                                                                                                                                                                                                                                                "
     ]
    },
    {
     "name": "stderr",
     "output_type": "stream",
     "text": [
      "\n",
      "INFO:cmdstanpy:CmdStan done processing.\n"
     ]
    },
    {
     "name": "stdout",
     "output_type": "stream",
     "text": [
      "\n"
     ]
    },
    {
     "name": "stderr",
     "output_type": "stream",
     "text": [
      "INFO:cmdstanpy:CmdStan start processing\n",
      "chain 1 |\u001B[33m          \u001B[0m| 00:00 Status\n",
      "chain 2 |\u001B[33m          \u001B[0m| 00:00 Status\u001B[A\n",
      "\n",
      "chain 3 |\u001B[33m          \u001B[0m| 00:00 Status\u001B[A\u001B[A\n",
      "\n",
      "\n",
      "chain 1 |\u001B[33m██▋       \u001B[0m| 00:00 Iteration:  400 / 2000 [ 20%]  (Warmup)\n",
      "\n",
      "\n",
      "chain 4 |\u001B[33m█▎        \u001B[0m| 00:00 Iteration:  100 / 2000 [  5%]  (Warmup)\u001B[A\u001B[A\u001B[A\n",
      "chain 2 |\u001B[33m██▋       \u001B[0m| 00:00 Iteration:  400 / 2000 [ 20%]  (Warmup)\u001B[A\n",
      "\n",
      "chain 3 |\u001B[33m█▎        \u001B[0m| 00:00 Iteration:  100 / 2000 [  5%]  (Warmup)\u001B[A\u001B[A\n",
      "chain 2 |\u001B[34m█████▍    \u001B[0m| 00:00 Iteration: 1000 / 2000 [ 50%]  (Warmup)\u001B[A\n",
      "\n",
      "chain 1 |\u001B[34m█████▉    \u001B[0m| 00:00 Iteration: 1001 / 2000 [ 50%]  (Sampling)A\u001B[A\n",
      "\n",
      "\n",
      "chain 4 |\u001B[34m█████▉    \u001B[0m| 00:00 Iteration: 1001 / 2000 [ 50%]  (Sampling)\u001B[A\u001B[A\u001B[A\n",
      "\n",
      "chain 1 |\u001B[34m███████▋  \u001B[0m| 00:01 Iteration: 1400 / 2000 [ 70%]  (Sampling)\u001B[A\u001B[A\n",
      "\n",
      "\n",
      "chain 4 |\u001B[34m███████▎  \u001B[0m| 00:01 Iteration: 1300 / 2000 [ 65%]  (Sampling)\u001B[A\u001B[A\u001B[A\n",
      "chain 1 |\u001B[34m█████████ \u001B[0m| 00:02 Iteration: 1700 / 2000 [ 85%]  (Sampling)\u001B[A\n",
      "\n",
      "chain 3 |\u001B[34m███████▋  \u001B[0m| 00:02 Iteration: 1400 / 2000 [ 70%]  (Sampling)\u001B[A\u001B[A\n",
      "\n",
      "\n",
      "chain 1 |\u001B[34m██████████\u001B[0m| 00:02 Iteration: 1900 / 2000 [ 95%]  (Sampling)\u001B[A\u001B[A\u001B[A\n",
      "\n",
      "chain 3 |\u001B[34m████████▋ \u001B[0m| 00:02 Iteration: 1600 / 2000 [ 80%]  (Sampling)\u001B[A\u001B[A\n",
      "\n",
      "\n",
      "chain 4 |\u001B[34m█████████ \u001B[0m| 00:02 Iteration: 1700 / 2000 [ 85%]  (Sampling)\u001B[A\u001B[A\u001B[A\n",
      "\n",
      "\n",
      "chain 4 |\u001B[34m█████████▌\u001B[0m| 00:02 Iteration: 1800 / 2000 [ 90%]  (Sampling)\u001B[A\u001B[A\u001B[A\n",
      "\n",
      "chain 3 |\u001B[34m█████████▌\u001B[0m| 00:03 Iteration: 1800 / 2000 [ 90%]  (Sampling)\u001B[A\u001B[A\n",
      "chain 2 |\u001B[34m██████████\u001B[0m| 00:03 Iteration: 1900 / 2000 [ 95%]  (Sampling)\u001B[A\n",
      "\n",
      "\n",
      "chain 4 |\u001B[34m██████████\u001B[0m| 00:03 Iteration: 1900 / 2000 [ 95%]  (Sampling)\u001B[A\u001B[A\u001B[A\n",
      "\n",
      "chain 1 |\u001B[34m██████████\u001B[0m| 00:03 Sampling completed                       \u001B[A\u001B[A\n",
      "chain 2 |\u001B[34m██████████\u001B[0m| 00:03 Sampling completed                       \n",
      "chain 3 |\u001B[34m██████████\u001B[0m| 00:03 Sampling completed                       \n",
      "chain 4 |\u001B[34m██████████\u001B[0m| 00:03 Sampling completed                       "
     ]
    },
    {
     "name": "stdout",
     "output_type": "stream",
     "text": [
      "                                                                                                                                                                                                                                                                                                                                "
     ]
    },
    {
     "name": "stderr",
     "output_type": "stream",
     "text": [
      "\n",
      "INFO:cmdstanpy:CmdStan done processing.\n"
     ]
    },
    {
     "name": "stdout",
     "output_type": "stream",
     "text": [
      "\n"
     ]
    }
   ],
   "source": [
    "model_code3 = CmdStanModel(stan_file='code_3.stan')\n",
    "data_model3_v1 = dict(N=N,\n",
    "                 y=y_mean_code1)\n",
    "result_model3_v1 = model_code3.sample(data=data_model3_v1)\n",
    "\n",
    "data_model3_v2 = dict(N=N,\n",
    "                 y=y_mean_code2)\n",
    "result_model3_v2 = model_code3.sample(data=data_model3_v2)"
   ],
   "metadata": {
    "collapsed": false,
    "pycharm": {
     "name": "#%%\n"
    }
   }
  },
  {
   "cell_type": "code",
   "execution_count": 131,
   "outputs": [
    {
     "name": "stderr",
     "output_type": "stream",
     "text": [
      "INFO:cmdstanpy:found newer exe file, not recompiling\n",
      "INFO:cmdstanpy:CmdStan start processing\n",
      "chain 1 |\u001B[33m          \u001B[0m| 00:00 Status\n",
      "chain 2 |\u001B[33m          \u001B[0m| 00:00 Status\u001B[A\n",
      "\n",
      "chain 3 |\u001B[33m          \u001B[0m| 00:00 Status\u001B[A\u001B[A\n",
      "\n",
      "\n",
      "chain 4 |\u001B[33m          \u001B[0m| 00:00 Status\u001B[A\u001B[A\u001B[A\n",
      "\n",
      "\n",
      "chain 1 |\u001B[33m▉         \u001B[0m| 00:00 Iteration:    1 / 2000 [  0%]  (Warmup)\u001B[A\u001B[A\u001B[A\n",
      "\n",
      "chain 3 |\u001B[33m█▎        \u001B[0m| 00:00 Iteration:  100 / 2000 [  5%]  (Warmup)\u001B[A\u001B[A\n",
      "\n",
      "\n",
      "chain 1 |\u001B[33m█▎        \u001B[0m| 00:00 Iteration:  100 / 2000 [  5%]  (Warmup)\u001B[A\u001B[A\u001B[A\n",
      "chain 2 |\u001B[33m▉         \u001B[0m| 00:00 Iteration:    1 / 2000 [  0%]  (Warmup)\u001B[A\n",
      "\n",
      "\n",
      "chain 4 |\u001B[33m█▊        \u001B[0m| 00:00 Iteration:  200 / 2000 [ 10%]  (Warmup)\u001B[A\u001B[A\u001B[A\n",
      "\n",
      "chain 1 |\u001B[33m██▎       \u001B[0m| 00:00 Iteration:  300 / 2000 [ 15%]  (Warmup)\u001B[A\u001B[A\n",
      "\n",
      "chain 3 |\u001B[33m███▏      \u001B[0m| 00:00 Iteration:  500 / 2000 [ 25%]  (Warmup)\u001B[A\u001B[A\n",
      "\n",
      "\n",
      "chain 1 |\u001B[33m███▏      \u001B[0m| 00:00 Iteration:  500 / 2000 [ 25%]  (Warmup)\u001B[A\u001B[A\u001B[A\n",
      "chain 2 |\u001B[33m█▎        \u001B[0m| 00:00 Iteration:  100 / 2000 [  5%]  (Warmup)\u001B[A\n",
      "\n",
      "chain 1 |\u001B[33m████▌     \u001B[0m| 00:00 Iteration:  800 / 2000 [ 40%]  (Warmup)\u001B[A\u001B[A\n",
      "\n",
      "\n",
      "chain 4 |\u001B[33m███▋      \u001B[0m| 00:00 Iteration:  600 / 2000 [ 30%]  (Warmup)\u001B[A\u001B[A\u001B[A\n",
      "chain 2 |\u001B[33m█▊        \u001B[0m| 00:00 Iteration:  200 / 2000 [ 10%]  (Warmup)\u001B[A\n",
      "\n",
      "\n",
      "chain 4 |\u001B[33m████▌     \u001B[0m| 00:00 Iteration:  800 / 2000 [ 40%]  (Warmup)\u001B[A\u001B[A\u001B[A\n",
      "chain 1 |\u001B[34m█████▉    \u001B[0m| 00:01 Iteration: 1001 / 2000 [ 50%]  (Sampling)A\n",
      "chain 2 |\u001B[33m███▋      \u001B[0m| 00:01 Iteration:  600 / 2000 [ 30%]  (Warmup)\u001B[A\n",
      "\n",
      "chain 3 |\u001B[34m█████▉    \u001B[0m| 00:01 Iteration: 1001 / 2000 [ 50%]  (Sampling)\u001B[A\u001B[A\n",
      "chain 2 |\u001B[33m████▌     \u001B[0m| 00:01 Iteration:  800 / 2000 [ 40%]  (Warmup)\u001B[A\n",
      "\n",
      "\n",
      "chain 1 |\u001B[34m██████▊   \u001B[0m| 00:01 Iteration: 1200 / 2000 [ 60%]  (Sampling)\u001B[A\u001B[A\u001B[A\n",
      "chain 2 |\u001B[34m█████▉    \u001B[0m| 00:01 Iteration: 1001 / 2000 [ 50%]  (Sampling)\u001B[A\n",
      "\n",
      "chain 3 |\u001B[34m██████▊   \u001B[0m| 00:02 Iteration: 1200 / 2000 [ 60%]  (Sampling)\u001B[A\u001B[A\n",
      "\n",
      "\n",
      "chain 1 |\u001B[34m███████▋  \u001B[0m| 00:02 Iteration: 1400 / 2000 [ 70%]  (Sampling)\u001B[A\u001B[A\u001B[A\n",
      "\n",
      "chain 1 |\u001B[34m████████▏ \u001B[0m| 00:02 Iteration: 1500 / 2000 [ 75%]  (Sampling)\u001B[A\u001B[A\n",
      "\n",
      "\n",
      "chain 1 |\u001B[34m████████▋ \u001B[0m| 00:02 Iteration: 1600 / 2000 [ 80%]  (Sampling)\u001B[A\u001B[A\u001B[A\n",
      "chain 2 |\u001B[34m██████▊   \u001B[0m| 00:02 Iteration: 1200 / 2000 [ 60%]  (Sampling)\u001B[A\n",
      "\n",
      "\n",
      "chain 4 |\u001B[34m███████▋  \u001B[0m| 00:02 Iteration: 1400 / 2000 [ 70%]  (Sampling)\u001B[A\u001B[A\u001B[A\n",
      "\n",
      "chain 1 |\u001B[34m█████████ \u001B[0m| 00:03 Iteration: 1700 / 2000 [ 85%]  (Sampling)\u001B[A\u001B[A\n",
      "chain 2 |\u001B[34m███████▎  \u001B[0m| 00:03 Iteration: 1300 / 2000 [ 65%]  (Sampling)\u001B[A\n",
      "\n",
      "\n",
      "chain 1 |\u001B[34m█████████▌\u001B[0m| 00:03 Iteration: 1800 / 2000 [ 90%]  (Sampling)\u001B[A\u001B[A\u001B[A\n",
      "\n",
      "chain 3 |\u001B[34m████████▏ \u001B[0m| 00:03 Iteration: 1500 / 2000 [ 75%]  (Sampling)\u001B[A\u001B[A\n",
      "chain 1 |\u001B[34m██████████\u001B[0m| 00:03 Iteration: 1900 / 2000 [ 95%]  (Sampling)\u001B[A\n",
      "\n",
      "\n",
      "chain 4 |\u001B[34m████████▋ \u001B[0m| 00:03 Iteration: 1600 / 2000 [ 80%]  (Sampling)\u001B[A\u001B[A\u001B[A\n",
      "chain 2 |\u001B[34m████████▏ \u001B[0m| 00:03 Iteration: 1500 / 2000 [ 75%]  (Sampling)\u001B[A\n",
      "\n",
      "chain 3 |\u001B[34m████████▋ \u001B[0m| 00:03 Iteration: 1600 / 2000 [ 80%]  (Sampling)\u001B[A\u001B[A\n",
      "\n",
      "\n",
      "chain 4 |\u001B[34m█████████ \u001B[0m| 00:03 Iteration: 1700 / 2000 [ 85%]  (Sampling)\u001B[A\u001B[A\u001B[A\n",
      "chain 2 |\u001B[34m████████▋ \u001B[0m| 00:04 Iteration: 1600 / 2000 [ 80%]  (Sampling)\u001B[A\n",
      "\n",
      "\n",
      "chain 4 |\u001B[34m█████████▌\u001B[0m| 00:04 Iteration: 1800 / 2000 [ 90%]  (Sampling)\u001B[A\u001B[A\u001B[A\n",
      "chain 2 |\u001B[34m█████████ \u001B[0m| 00:04 Iteration: 1700 / 2000 [ 85%]  (Sampling)\u001B[A\n",
      "\n",
      "chain 3 |\u001B[34m█████████ \u001B[0m| 00:04 Iteration: 1700 / 2000 [ 85%]  (Sampling)\u001B[A\u001B[A\n",
      "chain 2 |\u001B[34m█████████▌\u001B[0m| 00:04 Iteration: 1800 / 2000 [ 90%]  (Sampling)\u001B[A\n",
      "\n",
      "\n",
      "chain 4 |\u001B[34m██████████\u001B[0m| 00:04 Iteration: 1900 / 2000 [ 95%]  (Sampling)\u001B[A\u001B[A\u001B[A\n",
      "\n",
      "chain 3 |\u001B[34m█████████▌\u001B[0m| 00:04 Iteration: 1800 / 2000 [ 90%]  (Sampling)\u001B[A\u001B[A\n",
      "chain 2 |\u001B[34m██████████\u001B[0m| 00:04 Iteration: 1900 / 2000 [ 95%]  (Sampling)\u001B[A\n",
      "\n",
      "chain 1 |\u001B[34m██████████\u001B[0m| 00:04 Sampling completed                       \u001B[A\u001B[A\n",
      "chain 2 |\u001B[34m██████████\u001B[0m| 00:04 Sampling completed                       \n",
      "chain 3 |\u001B[34m██████████\u001B[0m| 00:04 Sampling completed                       \n",
      "chain 4 |\u001B[34m██████████\u001B[0m| 00:04 Sampling completed                       "
     ]
    },
    {
     "name": "stdout",
     "output_type": "stream",
     "text": [
      "                                                                                                                                                                                                                                                                                                                                "
     ]
    },
    {
     "name": "stderr",
     "output_type": "stream",
     "text": [
      "\n",
      "INFO:cmdstanpy:CmdStan done processing.\n"
     ]
    },
    {
     "name": "stdout",
     "output_type": "stream",
     "text": [
      "\n"
     ]
    },
    {
     "name": "stderr",
     "output_type": "stream",
     "text": [
      "INFO:cmdstanpy:CmdStan start processing\n",
      "chain 1 |\u001B[33m          \u001B[0m| 00:00 Status\n",
      "chain 2 |\u001B[33m          \u001B[0m| 00:00 Status\u001B[A\n",
      "\n",
      "chain 3 |\u001B[33m          \u001B[0m| 00:00 Status\u001B[A\u001B[A\n",
      "\n",
      "\n",
      "chain 4 |\u001B[33m          \u001B[0m| 00:00 Status\u001B[A\u001B[A\u001B[A\n",
      "chain 2 |\u001B[33m▍         \u001B[0m| 00:00 Status\u001B[A\n",
      "\n",
      "chain 3 |\u001B[33m▍         \u001B[0m| 00:00 Status\u001B[A\u001B[A\n",
      "\n",
      "\n",
      "chain 4 |\u001B[33m▉         \u001B[0m| 00:00 Iteration:    1 / 2000 [  0%]  (Warmup)\u001B[A\u001B[A\u001B[A\n",
      "\n",
      "\n",
      "chain 4 |\u001B[33m█▎        \u001B[0m| 00:00 Iteration:  100 / 2000 [  5%]  (Warmup)\u001B[A\u001B[A\u001B[A\n",
      "\n",
      "\n",
      "chain 4 |\u001B[33m█▊        \u001B[0m| 00:00 Iteration:  200 / 2000 [ 10%]  (Warmup)\u001B[A\u001B[A\u001B[A\n",
      "chain 1 |\u001B[33m▉         \u001B[0m| 00:00 Iteration:    1 / 2000 [  0%]  (Warmup)\u001B[A\n",
      "\n",
      "\n",
      "chain 4 |\u001B[33m██▋       \u001B[0m| 00:00 Iteration:  400 / 2000 [ 20%]  (Warmup)\u001B[A\u001B[A\u001B[A\n",
      "\n",
      "chain 3 |\u001B[33m▉         \u001B[0m| 00:00 Iteration:    1 / 2000 [  0%]  (Warmup)\u001B[A\u001B[A\n",
      "chain 1 |\u001B[33m█▎        \u001B[0m| 00:00 Iteration:  100 / 2000 [  5%]  (Warmup)\u001B[A\n",
      "\n",
      "chain 3 |\u001B[33m█▎        \u001B[0m| 00:00 Iteration:  100 / 2000 [  5%]  (Warmup)\u001B[A\u001B[A\n",
      "\n",
      "\n",
      "chain 4 |\u001B[33m███▋      \u001B[0m| 00:00 Iteration:  600 / 2000 [ 30%]  (Warmup)\u001B[A\u001B[A\u001B[A\n",
      "chain 2 |\u001B[33m█▊        \u001B[0m| 00:00 Iteration:  200 / 2000 [ 10%]  (Warmup)\u001B[A\n",
      "\n",
      "chain 3 |\u001B[33m██▎       \u001B[0m| 00:00 Iteration:  300 / 2000 [ 15%]  (Warmup)\u001B[A\u001B[A\n",
      "\n",
      "\n",
      "chain 1 |\u001B[33m█▊        \u001B[0m| 00:00 Iteration:  200 / 2000 [ 10%]  (Warmup)\u001B[A\u001B[A\u001B[A\n",
      "chain 2 |\u001B[33m██▋       \u001B[0m| 00:00 Iteration:  400 / 2000 [ 20%]  (Warmup)\u001B[A\n",
      "\n",
      "chain 1 |\u001B[33m██▎       \u001B[0m| 00:01 Iteration:  300 / 2000 [ 15%]  (Warmup)\u001B[A\u001B[A\n",
      "\n",
      "chain 3 |\u001B[33m█████     \u001B[0m| 00:01 Iteration:  900 / 2000 [ 45%]  (Warmup)\u001B[A\u001B[A\n",
      "chain 1 |\u001B[33m███▏      \u001B[0m| 00:01 Iteration:  500 / 2000 [ 25%]  (Warmup)\u001B[A\n",
      "chain 1 |\u001B[33m████      \u001B[0m| 00:01 Iteration:  700 / 2000 [ 35%]  (Warmup)\u001B[A\n",
      "\n",
      "\n",
      "chain 1 |\u001B[33m█████     \u001B[0m| 00:01 Iteration:  900 / 2000 [ 45%]  (Warmup)g)\u001B[A\u001B[A\u001B[A\n",
      "\n",
      "chain 3 |\u001B[34m█████▉    \u001B[0m| 00:01 Iteration: 1001 / 2000 [ 50%]  (Sampling)\u001B[A\u001B[A\n",
      "chain 1 |\u001B[34m█████▉    \u001B[0m| 00:01 Iteration: 1001 / 2000 [ 50%]  (Sampling)\u001B[A\n",
      "\n",
      "\n",
      "chain 4 |\u001B[34m██████▊   \u001B[0m| 00:02 Iteration: 1200 / 2000 [ 60%]  (Sampling)\u001B[A\u001B[A\u001B[A\n",
      "chain 2 |\u001B[34m██████▊   \u001B[0m| 00:02 Iteration: 1200 / 2000 [ 60%]  (Sampling)\u001B[A\n",
      "\n",
      "chain 1 |\u001B[34m██████▊   \u001B[0m| 00:02 Iteration: 1200 / 2000 [ 60%]  (Sampling)\u001B[A\u001B[A\n",
      "\n",
      "\n",
      "chain 4 |\u001B[34m███████▎  \u001B[0m| 00:02 Iteration: 1300 / 2000 [ 65%]  (Sampling)\u001B[A\u001B[A\u001B[A\n",
      "chain 1 |\u001B[34m███████▎  \u001B[0m| 00:03 Iteration: 1300 / 2000 [ 65%]  (Sampling)\u001B[A\n",
      "chain 2 |\u001B[34m███████▋  \u001B[0m| 00:03 Iteration: 1400 / 2000 [ 70%]  (Sampling)\u001B[A\n",
      "\n",
      "\n",
      "chain 4 |\u001B[34m███████▋  \u001B[0m| 00:03 Iteration: 1400 / 2000 [ 70%]  (Sampling)\u001B[A\u001B[A\u001B[A\n",
      "chain 2 |\u001B[34m████████▏ \u001B[0m| 00:03 Iteration: 1500 / 2000 [ 75%]  (Sampling)\u001B[A\n",
      "\n",
      "chain 3 |\u001B[34m███████▋  \u001B[0m| 00:03 Iteration: 1400 / 2000 [ 70%]  (Sampling)\u001B[A\u001B[A\n",
      "chain 1 |\u001B[34m███████▋  \u001B[0m| 00:03 Iteration: 1400 / 2000 [ 70%]  (Sampling)\u001B[A\n",
      "\n",
      "\n",
      "chain 4 |\u001B[34m████████▏ \u001B[0m| 00:03 Iteration: 1500 / 2000 [ 75%]  (Sampling)\u001B[A\u001B[A\u001B[A\n",
      "\n",
      "chain 3 |\u001B[34m████████▏ \u001B[0m| 00:03 Iteration: 1500 / 2000 [ 75%]  (Sampling)\u001B[A\u001B[A\n",
      "chain 2 |\u001B[34m█████████ \u001B[0m| 00:04 Iteration: 1700 / 2000 [ 85%]  (Sampling)\u001B[A\n",
      "\n",
      "chain 3 |\u001B[34m████████▋ \u001B[0m| 00:04 Iteration: 1600 / 2000 [ 80%]  (Sampling)\u001B[A\u001B[A\n",
      "\n",
      "\n",
      "chain 1 |\u001B[34m████████▏ \u001B[0m| 00:04 Iteration: 1500 / 2000 [ 75%]  (Sampling)\u001B[A\u001B[A\u001B[A\n",
      "\n",
      "chain 3 |\u001B[34m█████████ \u001B[0m| 00:04 Iteration: 1700 / 2000 [ 85%]  (Sampling)\u001B[A\u001B[A\n",
      "chain 2 |\u001B[34m█████████▌\u001B[0m| 00:04 Iteration: 1800 / 2000 [ 90%]  (Sampling)\u001B[A\n",
      "\n",
      "\n",
      "chain 1 |\u001B[34m████████▋ \u001B[0m| 00:04 Iteration: 1600 / 2000 [ 80%]  (Sampling)\u001B[A\u001B[A\u001B[A\n",
      "\n",
      "chain 3 |\u001B[34m█████████▌\u001B[0m| 00:04 Iteration: 1800 / 2000 [ 90%]  (Sampling)\u001B[A\u001B[A\n",
      "\n",
      "\n",
      "chain 4 |\u001B[34m█████████▌\u001B[0m| 00:05 Iteration: 1800 / 2000 [ 90%]  (Sampling)\u001B[A\u001B[A\u001B[A\n",
      "chain 1 |\u001B[34m█████████ \u001B[0m| 00:05 Iteration: 1700 / 2000 [ 85%]  (Sampling)\u001B[A\n",
      "\n",
      "chain 1 |\u001B[34m█████████▌\u001B[0m| 00:05 Iteration: 1800 / 2000 [ 90%]  (Sampling)\u001B[A\u001B[A\n",
      "\n",
      "\n",
      "chain 1 |\u001B[34m██████████\u001B[0m| 00:05 Sampling completed                       \u001B[A\u001B[A\u001B[A\n",
      "chain 2 |\u001B[34m██████████\u001B[0m| 00:05 Sampling completed                       \n",
      "chain 3 |\u001B[34m██████████\u001B[0m| 00:05 Sampling completed                       \n",
      "chain 4 |\u001B[34m██████████\u001B[0m| 00:05 Sampling completed                       "
     ]
    },
    {
     "name": "stdout",
     "output_type": "stream",
     "text": [
      "                                                                                                                                                                                                                                                                                                                                "
     ]
    },
    {
     "name": "stderr",
     "output_type": "stream",
     "text": [
      "\n",
      "INFO:cmdstanpy:CmdStan done processing.\n"
     ]
    },
    {
     "name": "stdout",
     "output_type": "stream",
     "text": [
      "\n"
     ]
    }
   ],
   "source": [
    "model_code4 = CmdStanModel(stan_file='code_4.stan')\n",
    "data_model4_v1 = dict(N=N,\n",
    "                 y=y_mean_code1)\n",
    "result_model4_v1 = model_code4.sample(data=data_model4_v1)\n",
    "\n",
    "data_model4_v2 = dict(N=N,\n",
    "                 y=y_mean_code2)\n",
    "result_model4_v2 = model_code4.sample(data=data_model4_v2)"
   ],
   "metadata": {
    "collapsed": false,
    "pycharm": {
     "name": "#%%\n"
    }
   }
  },
  {
   "cell_type": "markdown",
   "source": [
    "Compare model3"
   ],
   "metadata": {
    "collapsed": false,
    "pycharm": {
     "name": "#%% md\n"
    }
   }
  },
  {
   "cell_type": "code",
   "execution_count": 133,
   "outputs": [
    {
     "data": {
      "text/plain": "Computed from 4000 by 1100 log-likelihood matrix\n\n         Estimate       SE\nelpd_loo  2383.14    24.89\np_loo        2.18        -"
     },
     "execution_count": 133,
     "metadata": {},
     "output_type": "execute_result"
    }
   ],
   "source": [
    "az.loo(result_model3_v1)"
   ],
   "metadata": {
    "collapsed": false,
    "pycharm": {
     "name": "#%%\n"
    }
   }
  },
  {
   "cell_type": "code",
   "execution_count": 134,
   "outputs": [
    {
     "data": {
      "text/plain": "Computed from 4000 by 1100 log-likelihood matrix\n\n         Estimate       SE\nelpd_loo  2018.15    23.24\np_loo        1.98        -"
     },
     "execution_count": 134,
     "metadata": {},
     "output_type": "execute_result"
    }
   ],
   "source": [
    "az.loo(result_model3_v2)"
   ],
   "metadata": {
    "collapsed": false,
    "pycharm": {
     "name": "#%%\n"
    }
   }
  },
  {
   "cell_type": "code",
   "execution_count": 135,
   "outputs": [
    {
     "data": {
      "text/plain": "Computed from 4000 by 1100 log-likelihood matrix\n\n          Estimate       SE\nelpd_waic  2383.14    24.89\np_waic        2.19        -"
     },
     "execution_count": 135,
     "metadata": {},
     "output_type": "execute_result"
    }
   ],
   "source": [
    "az.waic(result_model3_v1)"
   ],
   "metadata": {
    "collapsed": false,
    "pycharm": {
     "name": "#%%\n"
    }
   }
  },
  {
   "cell_type": "code",
   "execution_count": 136,
   "outputs": [
    {
     "data": {
      "text/plain": "Computed from 4000 by 1100 log-likelihood matrix\n\n          Estimate       SE\nelpd_waic  2018.15    23.24\np_waic        1.98        -"
     },
     "execution_count": 136,
     "metadata": {},
     "output_type": "execute_result"
    }
   ],
   "source": [
    "az.waic(result_model3_v2)"
   ],
   "metadata": {
    "collapsed": false,
    "pycharm": {
     "name": "#%%\n"
    }
   }
  },
  {
   "cell_type": "markdown",
   "source": [
    "Compare model4"
   ],
   "metadata": {
    "collapsed": false,
    "pycharm": {
     "name": "#%% md\n"
    }
   }
  },
  {
   "cell_type": "code",
   "execution_count": 137,
   "outputs": [
    {
     "data": {
      "text/plain": "Computed from 4000 by 1100 log-likelihood matrix\n\n         Estimate       SE\nelpd_loo  2383.85    24.72\np_loo        2.34        -"
     },
     "execution_count": 137,
     "metadata": {},
     "output_type": "execute_result"
    }
   ],
   "source": [
    "az.loo(result_model4_v1)"
   ],
   "metadata": {
    "collapsed": false,
    "pycharm": {
     "name": "#%%\n"
    }
   }
  },
  {
   "cell_type": "code",
   "execution_count": 138,
   "outputs": [
    {
     "data": {
      "text/plain": "Computed from 4000 by 1100 log-likelihood matrix\n\n         Estimate       SE\nelpd_loo  2016.94    23.37\np_loo        2.08        -"
     },
     "execution_count": 138,
     "metadata": {},
     "output_type": "execute_result"
    }
   ],
   "source": [
    "az.loo(result_model4_v2)"
   ],
   "metadata": {
    "collapsed": false,
    "pycharm": {
     "name": "#%%\n"
    }
   }
  },
  {
   "cell_type": "code",
   "execution_count": 139,
   "outputs": [
    {
     "data": {
      "text/plain": "Computed from 4000 by 1100 log-likelihood matrix\n\n          Estimate       SE\nelpd_waic  2383.85    24.72\np_waic        2.34        -"
     },
     "execution_count": 139,
     "metadata": {},
     "output_type": "execute_result"
    }
   ],
   "source": [
    "az.waic(result_model4_v1)"
   ],
   "metadata": {
    "collapsed": false,
    "pycharm": {
     "name": "#%%\n"
    }
   }
  },
  {
   "cell_type": "code",
   "execution_count": 140,
   "outputs": [
    {
     "data": {
      "text/plain": "Computed from 4000 by 1100 log-likelihood matrix\n\n          Estimate       SE\nelpd_waic  2016.94    23.37\np_waic        2.08        -"
     },
     "execution_count": 140,
     "metadata": {},
     "output_type": "execute_result"
    }
   ],
   "source": [
    "az.waic(result_model4_v2)"
   ],
   "metadata": {
    "collapsed": false,
    "pycharm": {
     "name": "#%%\n"
    }
   }
  },
  {
   "cell_type": "markdown",
   "source": [
    "Compare"
   ],
   "metadata": {
    "collapsed": false,
    "pycharm": {
     "name": "#%% md\n"
    }
   }
  },
  {
   "cell_type": "code",
   "execution_count": 141,
   "outputs": [],
   "source": [
    "res_model3_v1=az.from_cmdstanpy(result_model3_v1)\n",
    "res_model3_v2=az.from_cmdstanpy(result_model3_v2)"
   ],
   "metadata": {
    "collapsed": false,
    "pycharm": {
     "name": "#%%\n"
    }
   }
  },
  {
   "cell_type": "code",
   "execution_count": 142,
   "outputs": [
    {
     "name": "stdout",
     "output_type": "stream",
     "text": [
      "   rank          loo     p_loo      d_loo    weight         se        dse  \\\n",
      "1     0  2383.143306  2.184691    0.00000  0.892332  24.889649   0.000000   \n",
      "2     1  2018.153866  1.975255  364.98944  0.107668  23.242456  34.364727   \n",
      "\n",
      "   warning loo_scale  \n",
      "1    False       log  \n",
      "2    False       log  \n"
     ]
    }
   ],
   "source": [
    "compare_model3=az.compare({\"1\":res_model3_v1,\"2\":res_model3_v2})\n",
    "print(compare_model3)"
   ],
   "metadata": {
    "collapsed": false,
    "pycharm": {
     "name": "#%%\n"
    }
   }
  },
  {
   "cell_type": "code",
   "execution_count": 143,
   "outputs": [
    {
     "data": {
      "text/plain": "<AxesSubplot:xlabel='Log'>"
     },
     "execution_count": 143,
     "metadata": {},
     "output_type": "execute_result"
    },
    {
     "data": {
      "text/plain": "<Figure size 432x144 with 1 Axes>",
      "image/png": "[encoded data removed]"
     },
     "metadata": {
      "needs_background": "light"
     },
     "output_type": "display_data"
    }
   ],
   "source": [
    "az.plot_compare(compare_model3)"
   ],
   "metadata": {
    "collapsed": false,
    "pycharm": {
     "name": "#%%\n"
    }
   }
  },
  {
   "cell_type": "code",
   "execution_count": 144,
   "outputs": [],
   "source": [
    "res_model4_v1=az.from_cmdstanpy(result_model4_v1)\n",
    "res_model4_v2=az.from_cmdstanpy(result_model4_v2)"
   ],
   "metadata": {
    "collapsed": false,
    "pycharm": {
     "name": "#%%\n"
    }
   }
  },
  {
   "cell_type": "code",
   "execution_count": 145,
   "outputs": [
    {
     "name": "stdout",
     "output_type": "stream",
     "text": [
      "   rank          loo     p_loo       d_loo    weight         se        dse  \\\n",
      "1     0  2383.847863  2.342921    0.000000  0.884048  24.718823   0.000000   \n",
      "2     1  2016.937051  2.082437  366.910812  0.115952  23.372911  34.327286   \n",
      "\n",
      "   warning loo_scale  \n",
      "1    False       log  \n",
      "2    False       log  \n"
     ]
    }
   ],
   "source": [
    "compare_model4=az.compare({\"1\":res_model4_v1,\"2\":res_model4_v2})\n",
    "print(compare_model4)"
   ],
   "metadata": {
    "collapsed": false,
    "pycharm": {
     "name": "#%%\n"
    }
   }
  },
  {
   "cell_type": "code",
   "execution_count": 146,
   "outputs": [
    {
     "data": {
      "text/plain": "<AxesSubplot:xlabel='Log'>"
     },
     "execution_count": 146,
     "metadata": {},
     "output_type": "execute_result"
    },
    {
     "data": {
      "text/plain": "<Figure size 432x144 with 1 Axes>",
      "image/png": "[encoded data removed]"
     },
     "metadata": {
      "needs_background": "light"
     },
     "output_type": "display_data"
    }
   ],
   "source": [
    "az.plot_compare(compare_model4)"
   ],
   "metadata": {
    "collapsed": false,
    "pycharm": {
     "name": "#%%\n"
    }
   }
  },
  {
   "cell_type": "markdown",
   "source": [
    "Excercise 3 - compare models with different numbers of predictors"
   ],
   "metadata": {
    "collapsed": false,
    "pycharm": {
     "name": "#%% md\n"
    }
   }
  },
  {
   "cell_type": "code",
   "execution_count": 147,
   "outputs": [
    {
     "name": "stderr",
     "output_type": "stream",
     "text": [
      "INFO:cmdstanpy:found newer exe file, not recompiling\n"
     ]
    }
   ],
   "source": [
    "model5=CmdStanModel(stan_file='code_5.stan')"
   ],
   "metadata": {
    "collapsed": false,
    "pycharm": {
     "name": "#%%\n"
    }
   }
  },
  {
   "cell_type": "markdown",
   "source": [
    "Predictor K=1"
   ],
   "metadata": {
    "collapsed": false,
    "pycharm": {
     "name": "#%% md\n"
    }
   }
  },
  {
   "cell_type": "code",
   "execution_count": 148,
   "outputs": [
    {
     "name": "stderr",
     "output_type": "stream",
     "text": [
      "INFO:cmdstanpy:CmdStan start processing\n",
      "chain 1 |\u001B[33m          \u001B[0m| 00:00 Status\n",
      "chain 2 |\u001B[33m          \u001B[0m| 00:00 Status\u001B[A\n",
      "\n",
      "chain 3 |\u001B[33m          \u001B[0m| 00:00 Status\u001B[A\u001B[A\n",
      "\n",
      "\n",
      "chain 4 |\u001B[33m          \u001B[0m| 00:00 Status\u001B[A\u001B[A\u001B[A\n",
      "chain 2 |\u001B[33m█▎        \u001B[0m| 00:00 Iteration:  100 / 2000 [  5%]  (Warmup)\u001B[A\n",
      "\n",
      "chain 3 |\u001B[33m▉         \u001B[0m| 00:00 Iteration:    1 / 2000 [  0%]  (Warmup)\u001B[A\u001B[A\n",
      "\n",
      "\n",
      "chain 1 |\u001B[33m█▎        \u001B[0m| 00:00 Iteration:  100 / 2000 [  5%]  (Warmup)\n",
      "chain 2 |\u001B[33m██▋       \u001B[0m| 00:00 Iteration:  400 / 2000 [ 20%]  (Warmup)\u001B[A\n",
      "\n",
      "chain 1 |\u001B[33m██▋       \u001B[0m| 00:00 Iteration:  400 / 2000 [ 20%]  (Warmup)\u001B[A\u001B[A\n",
      "chain 2 |\u001B[33m████▌     \u001B[0m| 00:00 Iteration:  800 / 2000 [ 40%]  (Warmup)\u001B[A\n",
      "\n",
      "\n",
      "chain 4 |\u001B[33m█▊        \u001B[0m| 00:00 Iteration:  200 / 2000 [ 10%]  (Warmup)\u001B[A\u001B[A\u001B[A\n",
      "\n",
      "chain 1 |\u001B[33m████▌     \u001B[0m| 00:00 Iteration:  800 / 2000 [ 40%]  (Warmup)\u001B[A\u001B[A\n",
      "\n",
      "\n",
      "chain 4 |\u001B[33m██▋       \u001B[0m| 00:00 Iteration:  400 / 2000 [ 20%]  (Warmup)\u001B[A\u001B[A\u001B[A\n",
      "\n",
      "\n",
      "chain 4 |\u001B[33m████      \u001B[0m| 00:00 Iteration:  700 / 2000 [ 35%]  (Warmup)\u001B[A\u001B[A\u001B[A\n",
      "\n",
      "chain 1 |\u001B[34m█████▉    \u001B[0m| 00:00 Iteration: 1001 / 2000 [ 50%]  (Sampling)\u001B[A\u001B[A\n",
      "\n",
      "\n",
      "chain 4 |\u001B[34m█████▉    \u001B[0m| 00:00 Iteration: 1001 / 2000 [ 50%]  (Sampling)\u001B[A\u001B[A\u001B[A\n",
      "chain 2 |\u001B[34m██████▎   \u001B[0m| 00:01 Iteration: 1100 / 2000 [ 55%]  (Sampling)\u001B[A\n",
      "\n",
      "chain 3 |\u001B[34m██████▊   \u001B[0m| 00:01 Iteration: 1200 / 2000 [ 60%]  (Sampling)\u001B[A\u001B[A\n",
      "\n",
      "\n",
      "chain 1 |\u001B[34m██████▊   \u001B[0m| 00:01 Iteration: 1200 / 2000 [ 60%]  (Sampling)\u001B[A\u001B[A\u001B[A\n",
      "chain 2 |\u001B[34m███████▋  \u001B[0m| 00:02 Iteration: 1400 / 2000 [ 70%]  (Sampling)\u001B[A\n",
      "\n",
      "\n",
      "chain 4 |\u001B[34m███████▋  \u001B[0m| 00:02 Iteration: 1400 / 2000 [ 70%]  (Sampling)\u001B[A\u001B[A\u001B[A\n",
      "\n",
      "chain 1 |\u001B[34m███████▋  \u001B[0m| 00:02 Iteration: 1400 / 2000 [ 70%]  (Sampling)\u001B[A\u001B[A\n",
      "\n",
      "\n",
      "chain 4 |\u001B[34m████████▏ \u001B[0m| 00:02 Iteration: 1500 / 2000 [ 75%]  (Sampling)\u001B[A\u001B[A\u001B[A\n",
      "\n",
      "chain 3 |\u001B[34m████████▏ \u001B[0m| 00:02 Iteration: 1500 / 2000 [ 75%]  (Sampling)\u001B[A\u001B[A\n",
      "chain 2 |\u001B[34m████████▋ \u001B[0m| 00:03 Iteration: 1600 / 2000 [ 80%]  (Sampling)\u001B[A\n",
      "\n",
      "\n",
      "chain 1 |\u001B[34m████████▏ \u001B[0m| 00:03 Iteration: 1500 / 2000 [ 75%]  (Sampling)\u001B[A\u001B[A\u001B[A\n",
      "\n",
      "chain 3 |\u001B[34m████████▋ \u001B[0m| 00:03 Iteration: 1600 / 2000 [ 80%]  (Sampling)\u001B[A\u001B[A\n",
      "\n",
      "\n",
      "chain 1 |\u001B[34m████████▋ \u001B[0m| 00:03 Iteration: 1600 / 2000 [ 80%]  (Sampling)\u001B[A\u001B[A\u001B[A\n",
      "\n",
      "chain 3 |\u001B[34m█████████ \u001B[0m| 00:03 Iteration: 1700 / 2000 [ 85%]  (Sampling)\u001B[A\u001B[A\n",
      "chain 2 |\u001B[34m█████████▌\u001B[0m| 00:03 Iteration: 1800 / 2000 [ 90%]  (Sampling)\u001B[A\n",
      "\n",
      "\n",
      "chain 4 |\u001B[34m█████████▌\u001B[0m| 00:03 Iteration: 1800 / 2000 [ 90%]  (Sampling)\u001B[A\u001B[A\u001B[A\n",
      "\n",
      "chain 1 |\u001B[34m█████████ \u001B[0m| 00:04 Iteration: 1700 / 2000 [ 85%]  (Sampling)\u001B[A\u001B[A\n",
      "chain 2 |\u001B[34m██████████\u001B[0m| 00:04 Iteration: 1900 / 2000 [ 95%]  (Sampling)\u001B[A\n",
      "\n",
      "\n",
      "chain 4 |\u001B[34m██████████\u001B[0m| 00:04 Iteration: 1900 / 2000 [ 95%]  (Sampling)\u001B[A\u001B[A\u001B[A\n",
      "\n",
      "chain 1 |\u001B[34m██████████\u001B[0m| 00:04 Sampling completed                       \u001B[A\u001B[A\n",
      "chain 2 |\u001B[34m██████████\u001B[0m| 00:04 Sampling completed                       \n",
      "chain 3 |\u001B[34m██████████\u001B[0m| 00:04 Sampling completed                       \n",
      "chain 4 |\u001B[34m██████████\u001B[0m| 00:04 Sampling completed                       "
     ]
    },
    {
     "name": "stdout",
     "output_type": "stream",
     "text": [
      "                                                                                                                                                                                                                                                                                                                                "
     ]
    },
    {
     "name": "stderr",
     "output_type": "stream",
     "text": [
      "\n",
      "INFO:cmdstanpy:CmdStan done processing.\n"
     ]
    },
    {
     "name": "stdout",
     "output_type": "stream",
     "text": [
      "\n"
     ]
    }
   ],
   "source": [
    "nxm=[]\n",
    "for i in X_matrix[:,0]:\n",
    "    nxm.append([i])\n",
    "\n",
    "data5_K1=dict(N=N,K=1,y=np.array(y_mean_code2),X=nxm)\n",
    "result_K1= model5.sample(data=data5_K1)"
   ],
   "metadata": {
    "collapsed": false,
    "pycharm": {
     "name": "#%%\n"
    }
   }
  },
  {
   "cell_type": "markdown",
   "source": [
    "Predictor K=2"
   ],
   "metadata": {
    "collapsed": false,
    "pycharm": {
     "name": "#%% md\n"
    }
   }
  },
  {
   "cell_type": "code",
   "execution_count": 149,
   "outputs": [
    {
     "name": "stderr",
     "output_type": "stream",
     "text": [
      "INFO:cmdstanpy:CmdStan start processing\n",
      "chain 1 |\u001B[33m          \u001B[0m| 00:00 Status\n",
      "chain 2 |\u001B[33m          \u001B[0m| 00:00 Status\u001B[A\n",
      "\n",
      "chain 3 |\u001B[33m          \u001B[0m| 00:00 Status\u001B[A\u001B[A\n",
      "\n",
      "\n",
      "chain 4 |\u001B[33m          \u001B[0m| 00:00 Status\u001B[A\u001B[A\u001B[A\n",
      "\n",
      "chain 3 |\u001B[33m▉         \u001B[0m| 00:00 Iteration:    1 / 2000 [  0%]  (Warmup)\u001B[A\u001B[A\n",
      "\n",
      "\n",
      "chain 1 |\u001B[33m█▎        \u001B[0m| 00:00 Iteration:  100 / 2000 [  5%]  (Warmup)\u001B[A\u001B[A\u001B[A\n",
      "chain 2 |\u001B[33m█▎        \u001B[0m| 00:00 Iteration:  100 / 2000 [  5%]  (Warmup)\u001B[A\n",
      "\n",
      "chain 3 |\u001B[33m█▊        \u001B[0m| 00:00 Iteration:  200 / 2000 [ 10%]  (Warmup)\u001B[A\u001B[A\n",
      "chain 2 |\u001B[33m██▋       \u001B[0m| 00:00 Iteration:  400 / 2000 [ 20%]  (Warmup)\u001B[A\n",
      "\n",
      "\n",
      "chain 1 |\u001B[33m██▎       \u001B[0m| 00:00 Iteration:  300 / 2000 [ 15%]  (Warmup)\u001B[A\u001B[A\u001B[A\n",
      "\n",
      "chain 3 |\u001B[33m███▏      \u001B[0m| 00:00 Iteration:  500 / 2000 [ 25%]  (Warmup)\u001B[A\u001B[A\n",
      "chain 1 |\u001B[33m███▋      \u001B[0m| 00:00 Iteration:  600 / 2000 [ 30%]  (Warmup)\u001B[A\n",
      "\n",
      "\n",
      "chain 4 |\u001B[33m████      \u001B[0m| 00:00 Iteration:  700 / 2000 [ 35%]  (Warmup)\u001B[A\u001B[A\u001B[A\n",
      "\n",
      "chain 1 |\u001B[33m█████     \u001B[0m| 00:00 Iteration:  900 / 2000 [ 45%]  (Warmup)\u001B[A\u001B[A\n",
      "\n",
      "\n",
      "chain 4 |\u001B[33m█████     \u001B[0m| 00:00 Iteration:  900 / 2000 [ 45%]  (Warmup)\u001B[A\u001B[A\u001B[A\n",
      "chain 2 |\u001B[34m█████▉    \u001B[0m| 00:00 Iteration: 1001 / 2000 [ 50%]  (Sampling)\u001B[A\n",
      "\n",
      "\n",
      "chain 4 |\u001B[34m█████▉    \u001B[0m| 00:01 Iteration: 1001 / 2000 [ 50%]  (Sampling)\u001B[A\u001B[A\u001B[A\n",
      "\n",
      "chain 1 |\u001B[34m██████▎   \u001B[0m| 00:01 Iteration: 1100 / 2000 [ 55%]  (Sampling)\u001B[A\u001B[A\n",
      "chain 2 |\u001B[34m███████▎  \u001B[0m| 00:01 Iteration: 1300 / 2000 [ 65%]  (Sampling)\u001B[A\n",
      "\n",
      "\n",
      "chain 4 |\u001B[34m██████▊   \u001B[0m| 00:02 Iteration: 1200 / 2000 [ 60%]  (Sampling)\u001B[A\u001B[A\u001B[A\n",
      "\n",
      "chain 1 |\u001B[34m███████▎  \u001B[0m| 00:02 Iteration: 1300 / 2000 [ 65%]  (Sampling)\u001B[A\u001B[A\n",
      "\n",
      "\n",
      "chain 4 |\u001B[34m███████▎  \u001B[0m| 00:02 Iteration: 1300 / 2000 [ 65%]  (Sampling)\u001B[A\u001B[A\u001B[A\n",
      "chain 2 |\u001B[34m████████▏ \u001B[0m| 00:02 Iteration: 1500 / 2000 [ 75%]  (Sampling)\u001B[A\n",
      "\n",
      "\n",
      "chain 1 |\u001B[34m████████▏ \u001B[0m| 00:03 Iteration: 1500 / 2000 [ 75%]  (Sampling)\u001B[A\u001B[A\u001B[A\n",
      "\n",
      "chain 1 |\u001B[34m████████▋ \u001B[0m| 00:03 Iteration: 1600 / 2000 [ 80%]  (Sampling)\u001B[A\u001B[A\n",
      "\n",
      "\n",
      "chain 4 |\u001B[34m████████▏ \u001B[0m| 00:03 Iteration: 1500 / 2000 [ 75%]  (Sampling)\u001B[A\u001B[A\u001B[A\n",
      "chain 2 |\u001B[34m█████████ \u001B[0m| 00:03 Iteration: 1700 / 2000 [ 85%]  (Sampling)\u001B[A\n",
      "\n",
      "chain 1 |\u001B[34m█████████ \u001B[0m| 00:03 Iteration: 1700 / 2000 [ 85%]  (Sampling)\u001B[A\u001B[A\n",
      "chain 2 |\u001B[34m█████████▌\u001B[0m| 00:03 Iteration: 1800 / 2000 [ 90%]  (Sampling)\u001B[A\n",
      "\n",
      "\n",
      "chain 4 |\u001B[34m████████▋ \u001B[0m| 00:03 Iteration: 1600 / 2000 [ 80%]  (Sampling)\u001B[A\u001B[A\u001B[A\n",
      "\n",
      "chain 1 |\u001B[34m█████████▌\u001B[0m| 00:04 Iteration: 1800 / 2000 [ 90%]  (Sampling)\u001B[A\u001B[A\n",
      "chain 2 |\u001B[34m██████████\u001B[0m| 00:04 Iteration: 1900 / 2000 [ 95%]  (Sampling)\u001B[A\n",
      "\n",
      "\n",
      "chain 4 |\u001B[34m█████████ \u001B[0m| 00:04 Iteration: 1700 / 2000 [ 85%]  (Sampling)\u001B[A\u001B[A\u001B[A\n",
      "\n",
      "chain 1 |\u001B[34m██████████\u001B[0m| 00:04 Iteration: 1900 / 2000 [ 95%]  (Sampling)\u001B[A\u001B[A\n",
      "\n",
      "chain 3 |\u001B[34m██████████\u001B[0m| 00:04 Iteration: 1900 / 2000 [ 95%]  (Sampling)\u001B[A\u001B[A\n",
      "\n",
      "\n",
      "chain 4 |\u001B[34m█████████▌\u001B[0m| 00:04 Iteration: 1800 / 2000 [ 90%]  (Sampling)\u001B[A\u001B[A\u001B[A\n",
      "\n",
      "\n",
      "chain 1 |\u001B[34m██████████\u001B[0m| 00:04 Sampling completed                       \u001B[A\u001B[A\u001B[A\n",
      "chain 2 |\u001B[34m██████████\u001B[0m| 00:04 Sampling completed                       \n",
      "chain 3 |\u001B[34m██████████\u001B[0m| 00:04 Sampling completed                       \n",
      "chain 4 |\u001B[34m██████████\u001B[0m| 00:04 Sampling completed                       "
     ]
    },
    {
     "name": "stdout",
     "output_type": "stream",
     "text": [
      "                                                                                                                                                                                                                                                                                                                                "
     ]
    },
    {
     "name": "stderr",
     "output_type": "stream",
     "text": [
      "\n",
      "INFO:cmdstanpy:CmdStan done processing.\n"
     ]
    },
    {
     "name": "stdout",
     "output_type": "stream",
     "text": [
      "\n"
     ]
    }
   ],
   "source": [
    "nxm=[]\n",
    "matrix_tmp = X_matrix[:,0:2]\n",
    "for i in matrix_tmp:\n",
    "    vect = []\n",
    "    for j in i:\n",
    "        vect.append(j)\n",
    "    nxm.append(vect)\n",
    "\n",
    "data5_K2=dict(N=N,K=2,y=np.array(y_mean_code2),X=nxm)\n",
    "result_K2= model5.sample(data=data5_K2)"
   ],
   "metadata": {
    "collapsed": false,
    "pycharm": {
     "name": "#%%\n"
    }
   }
  },
  {
   "cell_type": "markdown",
   "source": [
    "Predictor K = 3"
   ],
   "metadata": {
    "collapsed": false,
    "pycharm": {
     "name": "#%% md\n"
    }
   }
  },
  {
   "cell_type": "code",
   "execution_count": 150,
   "outputs": [
    {
     "name": "stderr",
     "output_type": "stream",
     "text": [
      "INFO:cmdstanpy:CmdStan start processing\n"
     ]
    },
    {
     "name": "stdout",
     "output_type": "stream",
     "text": [
      "3\n"
     ]
    },
    {
     "name": "stderr",
     "output_type": "stream",
     "text": [
      "chain 1 |\u001B[33m          \u001B[0m| 00:00 Status\n",
      "chain 2 |\u001B[33m          \u001B[0m| 00:00 Status\u001B[A\n",
      "\n",
      "chain 3 |\u001B[33m          \u001B[0m| 00:00 Status\u001B[A\u001B[A\n",
      "\n",
      "\n",
      "chain 4 |\u001B[33m          \u001B[0m| 00:00 Status\u001B[A\u001B[A\u001B[A\n",
      "chain 2 |\u001B[33m▍         \u001B[0m| 00:00 Status\u001B[A\n",
      "\n",
      "chain 1 |\u001B[33m▉         \u001B[0m| 00:00 Iteration:    1 / 2000 [  0%]  (Warmup)\u001B[A\u001B[A\n",
      "\n",
      "\n",
      "chain 4 |\u001B[33m▉         \u001B[0m| 00:00 Iteration:    1 / 2000 [  0%]  (Warmup)\u001B[A\u001B[A\u001B[A\n",
      "chain 2 |\u001B[33m▉         \u001B[0m| 00:00 Iteration:    1 / 2000 [  0%]  (Warmup)\u001B[A\n",
      "chain 2 |\u001B[33m██▎       \u001B[0m| 00:00 Iteration:  300 / 2000 [ 15%]  (Warmup)\u001B[A\n",
      "\n",
      "chain 1 |\u001B[33m█▊        \u001B[0m| 00:00 Iteration:  200 / 2000 [ 10%]  (Warmup)\u001B[A\u001B[A\n",
      "\n",
      "\n",
      "chain 4 |\u001B[33m█▊        \u001B[0m| 00:00 Iteration:  200 / 2000 [ 10%]  (Warmup)\u001B[A\u001B[A\u001B[A\n",
      "chain 2 |\u001B[33m████      \u001B[0m| 00:00 Iteration:  700 / 2000 [ 35%]  (Warmup)\u001B[A\n",
      "\n",
      "\n",
      "chain 4 |\u001B[33m██▋       \u001B[0m| 00:00 Iteration:  400 / 2000 [ 20%]  (Warmup)\u001B[A\u001B[A\u001B[A\n",
      "\n",
      "chain 1 |\u001B[33m██▋       \u001B[0m| 00:00 Iteration:  400 / 2000 [ 20%]  (Warmup)\u001B[A\u001B[A\n",
      "\n",
      "\n",
      "chain 4 |\u001B[33m████      \u001B[0m| 00:00 Iteration:  700 / 2000 [ 35%]  (Warmup)\u001B[A\u001B[A\u001B[A\n",
      "\n",
      "chain 1 |\u001B[33m█████     \u001B[0m| 00:00 Iteration:  900 / 2000 [ 45%]  (Warmup)\u001B[A\u001B[A\n",
      "chain 1 |\u001B[34m█████▉    \u001B[0m| 00:01 Iteration: 1001 / 2000 [ 50%]  (Sampling)\u001B[A\n",
      "\n",
      "chain 3 |\u001B[34m█████▉    \u001B[0m| 00:01 Iteration: 1001 / 2000 [ 50%]  (Sampling)\u001B[A\u001B[A\n",
      "\n",
      "\n",
      "chain 4 |\u001B[34m█████▉    \u001B[0m| 00:01 Iteration: 1001 / 2000 [ 50%]  (Sampling)\u001B[A\u001B[A\u001B[A\n",
      "chain 2 |\u001B[34m██████▊   \u001B[0m| 00:01 Iteration: 1200 / 2000 [ 60%]  (Sampling)\u001B[A\n",
      "chain 2 |\u001B[34m███████▋  \u001B[0m| 00:02 Iteration: 1400 / 2000 [ 70%]  (Sampling)\u001B[A\n",
      "\n",
      "chain 3 |\u001B[34m██████▊   \u001B[0m| 00:02 Iteration: 1200 / 2000 [ 60%]  (Sampling)\u001B[A\u001B[A\n",
      "\n",
      "\n",
      "chain 1 |\u001B[34m██████▊   \u001B[0m| 00:02 Iteration: 1200 / 2000 [ 60%]  (Sampling)\u001B[A\u001B[A\u001B[A\n",
      "chain 2 |\u001B[34m████████▋ \u001B[0m| 00:02 Iteration: 1600 / 2000 [ 80%]  (Sampling)\u001B[A\n",
      "\n",
      "chain 3 |\u001B[34m███████▎  \u001B[0m| 00:02 Iteration: 1300 / 2000 [ 65%]  (Sampling)\u001B[A\u001B[A\n",
      "\n",
      "\n",
      "chain 1 |\u001B[34m███████▎  \u001B[0m| 00:03 Iteration: 1300 / 2000 [ 65%]  (Sampling)\u001B[A\u001B[A\u001B[A\n",
      "chain 2 |\u001B[34m█████████ \u001B[0m| 00:03 Iteration: 1700 / 2000 [ 85%]  (Sampling)\u001B[A\n",
      "\n",
      "chain 3 |\u001B[34m███████▋  \u001B[0m| 00:03 Iteration: 1400 / 2000 [ 70%]  (Sampling)\u001B[A\u001B[A\n",
      "\n",
      "\n",
      "chain 1 |\u001B[34m███████▋  \u001B[0m| 00:03 Iteration: 1400 / 2000 [ 70%]  (Sampling)\u001B[A\u001B[A\u001B[A\n",
      "chain 2 |\u001B[34m█████████▌\u001B[0m| 00:03 Iteration: 1800 / 2000 [ 90%]  (Sampling)\u001B[A\n",
      "\n",
      "\n",
      "chain 4 |\u001B[34m████████▏ \u001B[0m| 00:03 Iteration: 1500 / 2000 [ 75%]  (Sampling)\u001B[A\u001B[A\u001B[A\n",
      "\n",
      "chain 1 |\u001B[34m████████▏ \u001B[0m| 00:03 Iteration: 1500 / 2000 [ 75%]  (Sampling)\u001B[A\u001B[A\n",
      "\n",
      "\n",
      "chain 4 |\u001B[34m████████▋ \u001B[0m| 00:04 Iteration: 1600 / 2000 [ 80%]  (Sampling)\u001B[A\u001B[A\u001B[A\n",
      "chain 2 |\u001B[34m██████████\u001B[0m| 00:04 Iteration: 1900 / 2000 [ 95%]  (Sampling)\u001B[A\n",
      "\n",
      "chain 1 |\u001B[34m████████▋ \u001B[0m| 00:04 Iteration: 1600 / 2000 [ 80%]  (Sampling)\u001B[A\u001B[A\n",
      "\n",
      "\n",
      "chain 4 |\u001B[34m█████████ \u001B[0m| 00:04 Iteration: 1700 / 2000 [ 85%]  (Sampling)\u001B[A\u001B[A\u001B[A\n",
      "\n",
      "chain 1 |\u001B[34m█████████ \u001B[0m| 00:04 Iteration: 1700 / 2000 [ 85%]  (Sampling)\u001B[A\u001B[A\n",
      "\n",
      "\n",
      "chain 4 |\u001B[34m█████████▌\u001B[0m| 00:04 Iteration: 1800 / 2000 [ 90%]  (Sampling)\u001B[A\u001B[A\u001B[A\n",
      "\n",
      "chain 1 |\u001B[34m█████████▌\u001B[0m| 00:04 Iteration: 1800 / 2000 [ 90%]  (Sampling)\u001B[A\u001B[A\n",
      "\n",
      "\n",
      "chain 4 |\u001B[34m██████████\u001B[0m| 00:05 Iteration: 1900 / 2000 [ 95%]  (Sampling)\u001B[A\u001B[A\u001B[A\n",
      "\n",
      "chain 1 |\u001B[34m██████████\u001B[0m| 00:05 Sampling completed                       \u001B[A\u001B[A\n",
      "chain 2 |\u001B[34m██████████\u001B[0m| 00:05 Sampling completed                       \n",
      "chain 3 |\u001B[34m██████████\u001B[0m| 00:05 Sampling completed                       \n",
      "chain 4 |\u001B[34m██████████\u001B[0m| 00:05 Sampling completed                       "
     ]
    },
    {
     "name": "stdout",
     "output_type": "stream",
     "text": [
      "                                                                                                                                                                                                                                                                                                                                "
     ]
    },
    {
     "name": "stderr",
     "output_type": "stream",
     "text": [
      "\n",
      "INFO:cmdstanpy:CmdStan done processing.\n"
     ]
    },
    {
     "name": "stdout",
     "output_type": "stream",
     "text": [
      "\n"
     ]
    }
   ],
   "source": [
    "nxm=[]\n",
    "matrix_tmp = X_matrix[:,0:3]\n",
    "for i in matrix_tmp:\n",
    "    vect = []\n",
    "    for j in i:\n",
    "        vect.append(j)\n",
    "    nxm.append(vect)\n",
    "\n",
    "print(len(matrix_tmp[0]))\n",
    "\n",
    "data5_K3=dict(N=N,K=3,y=np.array(y_mean_code2),X=nxm)\n",
    "result_K3= model5.sample(data=data5_K3)"
   ],
   "metadata": {
    "collapsed": false,
    "pycharm": {
     "name": "#%%\n"
    }
   }
  },
  {
   "cell_type": "code",
   "execution_count": 151,
   "outputs": [
    {
     "data": {
      "text/plain": "Computed from 4000 by 1100 log-likelihood matrix\n\n         Estimate       SE\nelpd_loo  2018.48    23.17\np_loo        1.98        -"
     },
     "execution_count": 151,
     "metadata": {},
     "output_type": "execute_result"
    }
   ],
   "source": [
    "az.loo(result_K1)"
   ],
   "metadata": {
    "collapsed": false,
    "pycharm": {
     "name": "#%%\n"
    }
   }
  },
  {
   "cell_type": "code",
   "execution_count": 152,
   "outputs": [
    {
     "data": {
      "text/plain": "Computed from 4000 by 1100 log-likelihood matrix\n\n         Estimate       SE\nelpd_loo  2017.87    23.20\np_loo        3.08        -"
     },
     "execution_count": 152,
     "metadata": {},
     "output_type": "execute_result"
    }
   ],
   "source": [
    "az.loo(result_K2)"
   ],
   "metadata": {
    "collapsed": false,
    "pycharm": {
     "name": "#%%\n"
    }
   }
  },
  {
   "cell_type": "code",
   "execution_count": 153,
   "outputs": [
    {
     "data": {
      "text/plain": "Computed from 4000 by 1100 log-likelihood matrix\n\n         Estimate       SE\nelpd_loo  2017.37    23.22\np_loo        4.10        -"
     },
     "execution_count": 153,
     "metadata": {},
     "output_type": "execute_result"
    }
   ],
   "source": [
    "az.loo(result_K3)"
   ],
   "metadata": {
    "collapsed": false,
    "pycharm": {
     "name": "#%%\n"
    }
   }
  },
  {
   "cell_type": "code",
   "execution_count": 154,
   "outputs": [
    {
     "data": {
      "text/plain": "Computed from 4000 by 1100 log-likelihood matrix\n\n          Estimate       SE\nelpd_waic  2018.48    23.17\np_waic        1.98        -"
     },
     "execution_count": 154,
     "metadata": {},
     "output_type": "execute_result"
    }
   ],
   "source": [
    "az.waic(result_K1)"
   ],
   "metadata": {
    "collapsed": false,
    "pycharm": {
     "name": "#%%\n"
    }
   }
  },
  {
   "cell_type": "code",
   "execution_count": 155,
   "outputs": [
    {
     "data": {
      "text/plain": "Computed from 4000 by 1100 log-likelihood matrix\n\n          Estimate       SE\nelpd_waic  2017.87    23.20\np_waic        3.08        -"
     },
     "execution_count": 155,
     "metadata": {},
     "output_type": "execute_result"
    }
   ],
   "source": [
    "az.waic(result_K2)"
   ],
   "metadata": {
    "collapsed": false,
    "pycharm": {
     "name": "#%%\n"
    }
   }
  },
  {
   "cell_type": "code",
   "execution_count": 156,
   "outputs": [
    {
     "data": {
      "text/plain": "Computed from 4000 by 1100 log-likelihood matrix\n\n          Estimate       SE\nelpd_waic  2017.37    23.22\np_waic        4.10        -"
     },
     "execution_count": 156,
     "metadata": {},
     "output_type": "execute_result"
    }
   ],
   "source": [
    "az.waic(result_K3)"
   ],
   "metadata": {
    "collapsed": false,
    "pycharm": {
     "name": "#%%\n"
    }
   }
  },
  {
   "cell_type": "code",
   "execution_count": 157,
   "outputs": [
    {
     "data": {
      "text/plain": "   rank          loo     p_loo     d_loo  weight         se       dse  \\\n1     0  2018.476676  1.984611  0.000000     1.0  23.168052  0.000000   \n2     1  2017.872362  3.076926  0.604315     0.0  23.202642  0.989886   \n3     2  2017.366771  4.101370  1.109905     0.0  23.217651  1.403685   \n\n   warning loo_scale  \n1    False       log  \n2    False       log  \n3    False       log  ",
      "text/html": "<div>\n<style scoped>\n    .dataframe tbody tr th:only-of-type {\n        vertical-align: middle;\n    }\n\n    .dataframe tbody tr th {\n        vertical-align: top;\n    }\n\n    .dataframe thead th {\n        text-align: right;\n    }\n</style>\n<table border=\"1\" class=\"dataframe\">\n  <thead>\n    <tr style=\"text-align: right;\">\n      <th></th>\n      <th>rank</th>\n      <th>loo</th>\n      <th>p_loo</th>\n      <th>d_loo</th>\n      <th>weight</th>\n      <th>se</th>\n      <th>dse</th>\n      <th>warning</th>\n      <th>loo_scale</th>\n    </tr>\n  </thead>\n  <tbody>\n    <tr>\n      <th>1</th>\n      <td>0</td>\n      <td>2018.476676</td>\n      <td>1.984611</td>\n      <td>0.000000</td>\n      <td>1.0</td>\n      <td>23.168052</td>\n      <td>0.000000</td>\n      <td>False</td>\n      <td>log</td>\n    </tr>\n    <tr>\n      <th>2</th>\n      <td>1</td>\n      <td>2017.872362</td>\n      <td>3.076926</td>\n      <td>0.604315</td>\n      <td>0.0</td>\n      <td>23.202642</td>\n      <td>0.989886</td>\n      <td>False</td>\n      <td>log</td>\n    </tr>\n    <tr>\n      <th>3</th>\n      <td>2</td>\n      <td>2017.366771</td>\n      <td>4.101370</td>\n      <td>1.109905</td>\n      <td>0.0</td>\n      <td>23.217651</td>\n      <td>1.403685</td>\n      <td>False</td>\n      <td>log</td>\n    </tr>\n  </tbody>\n</table>\n</div>"
     },
     "execution_count": 157,
     "metadata": {},
     "output_type": "execute_result"
    }
   ],
   "source": [
    "compare_model5_K1=az.from_cmdstanpy(result_K1)\n",
    "compare_model5_K2=az.from_cmdstanpy(result_K2)\n",
    "compare_model5_K3=az.from_cmdstanpy(result_K3)\n",
    "\n",
    "compare_result_model5=az.compare({\"1\":compare_model5_K1,\"2\":compare_model5_K2, \"3\":compare_model5_K3})\n",
    "compare_result_model5"
   ],
   "metadata": {
    "collapsed": false,
    "pycharm": {
     "name": "#%%\n"
    }
   }
  },
  {
   "cell_type": "code",
   "execution_count": 158,
   "outputs": [
    {
     "data": {
      "text/plain": "<AxesSubplot:xlabel='Log'>"
     },
     "execution_count": 158,
     "metadata": {},
     "output_type": "execute_result"
    },
    {
     "data": {
      "text/plain": "<Figure size 432x216 with 1 Axes>",
      "image/png": "[encoded data removed]"
     },
     "metadata": {
      "needs_background": "light"
     },
     "output_type": "display_data"
    }
   ],
   "source": [
    "az.plot_compare(compare_result_model5)"
   ],
   "metadata": {
    "collapsed": false,
    "pycharm": {
     "name": "#%%\n"
    }
   }
  }
 ],
 "metadata": {
  "kernelspec": {
   "display_name": "Python 3",
   "language": "python",
   "name": "python3"
  },
  "language_info": {
   "codemirror_mode": {
    "name": "ipython",
    "version": 2
   },
   "file_extension": ".py",
   "mimetype": "text/x-python",
   "name": "python",
   "nbconvert_exporter": "python",
   "pygments_lexer": "ipython2",
   "version": "2.7.6"
  }
 },
 "nbformat": 4,
 "nbformat_minor": 0
}