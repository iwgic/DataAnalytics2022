{
 "cells": [
  {
   "cell_type": "code",
   "execution_count": 103,
   "outputs": [],
   "source": [
    "from cmdstanpy import CmdStanModel\n",
    "import arviz as az\n",
    "import numpy as np"
   ],
   "metadata": {
    "collapsed": false,
    "pycharm": {
     "name": "#%%\n"
    }
   }
  },
  {
   "cell_type": "code",
   "execution_count": 104,
   "outputs": [],
   "source": [
    "#F - number of letters in first name L - number of letters in last name N = (L+F)*100\n",
    "F = 5\n",
    "L = 6\n",
    "N = (L+F)*100"
   ],
   "metadata": {
    "collapsed": false,
    "pycharm": {
     "name": "#%%\n"
    }
   }
  },
  {
   "cell_type": "code",
   "execution_count": 105,
   "outputs": [],
   "source": [
    "data=dict(N=N)"
   ],
   "metadata": {
    "collapsed": false,
    "pycharm": {
     "name": "#%%\n"
    }
   }
  },
  {
   "cell_type": "code",
   "execution_count": 106,
   "outputs": [
    {
     "name": "stderr",
     "output_type": "stream",
     "text": [
      "INFO:cmdstanpy:found newer exe file, not recompiling\n"
     ]
    }
   ],
   "source": [
    "data_generator_code1 = CmdStanModel(stan_file = 'code_1.stan')"
   ],
   "metadata": {
    "collapsed": false,
    "pycharm": {
     "name": "#%%\n"
    }
   }
  },
  {
   "cell_type": "code",
   "execution_count": 107,
   "outputs": [
    {
     "name": "stderr",
     "output_type": "stream",
     "text": [
      "INFO:cmdstanpy:CmdStan start processing\n",
      "chain 1 |\u001B[33m          \u001B[0m| 00:00 Status\n",
      "chain 2 |\u001B[33m          \u001B[0m| 00:00 Status\u001B[A\n",
      "\n",
      "chain 3 |\u001B[33m          \u001B[0m| 00:00 Status\u001B[A\u001B[A\n",
      "\n",
      "\n",
      "chain 4 |\u001B[33m          \u001B[0m| 00:00 Status\u001B[A\u001B[A\u001B[A\n",
      "\n",
      "chain 3 |\u001B[34m▍         \u001B[0m| 00:00 Status\u001B[A\u001B[A\n",
      "\n",
      "\n",
      "chain 4 |\u001B[34m▍         \u001B[0m| 00:00 Status\u001B[A\u001B[A\u001B[A\n",
      "chain 1 |\u001B[34m▉         \u001B[0m| 00:00 Iteration:   1 / 1000 [  0%]  (Sampling)\u001B[A\n",
      "\n",
      "\n",
      "chain 4 |\u001B[34m▉         \u001B[0m| 00:00 Iteration:   1 / 1000 [  0%]  (Sampling)\u001B[A\u001B[A\u001B[A\n",
      "\n",
      "chain 3 |\u001B[34m▉         \u001B[0m| 00:00 Iteration:   1 / 1000 [  0%]  (Sampling)\u001B[A\u001B[A\n",
      "chain 1 |\u001B[34m█▎        \u001B[0m| 00:00 Iteration: 100 / 1000 [ 10%]  (Sampling)\u001B[A\n",
      "\n",
      "\n",
      "chain 4 |\u001B[34m█▎        \u001B[0m| 00:00 Iteration: 100 / 1000 [ 10%]  (Sampling)\u001B[A\u001B[A\u001B[A\n",
      "chain 2 |\u001B[34m██▎       \u001B[0m| 00:00 Iteration: 300 / 1000 [ 30%]  (Sampling)\u001B[A\n",
      "\n",
      "chain 3 |\u001B[34m█▎        \u001B[0m| 00:00 Iteration: 100 / 1000 [ 10%]  (Sampling)\u001B[A\u001B[A\n",
      "\n",
      "\n",
      "chain 1 |\u001B[34m█▊        \u001B[0m| 00:00 Iteration: 200 / 1000 [ 20%]  (Sampling)\u001B[A\u001B[A\u001B[A\n",
      "chain 2 |\u001B[34m██▋       \u001B[0m| 00:00 Iteration: 400 / 1000 [ 40%]  (Sampling)\u001B[A\n",
      "\n",
      "\n",
      "chain 4 |\u001B[34m██▎       \u001B[0m| 00:00 Iteration: 300 / 1000 [ 30%]  (Sampling)\u001B[A\u001B[A\u001B[A\n",
      "\n",
      "chain 3 |\u001B[34m█▊        \u001B[0m| 00:00 Iteration: 200 / 1000 [ 20%]  (Sampling)\u001B[A\u001B[A\n",
      "\n",
      "\n",
      "chain 4 |\u001B[34m██▋       \u001B[0m| 00:00 Iteration: 400 / 1000 [ 40%]  (Sampling)\u001B[A\u001B[A\u001B[A\n",
      "chain 1 |\u001B[34m██▎       \u001B[0m| 00:00 Iteration: 300 / 1000 [ 30%]  (Sampling)\u001B[A\n",
      "\n",
      "\n",
      "chain 4 |\u001B[34m███▏      \u001B[0m| 00:01 Iteration: 500 / 1000 [ 50%]  (Sampling)\u001B[A\u001B[A\u001B[A\n",
      "chain 2 |\u001B[34m███▋      \u001B[0m| 00:01 Iteration: 600 / 1000 [ 60%]  (Sampling)\u001B[A\n",
      "\n",
      "chain 3 |\u001B[34m██▎       \u001B[0m| 00:01 Iteration: 300 / 1000 [ 30%]  (Sampling)\u001B[A\u001B[A\n",
      "chain 2 |\u001B[34m████      \u001B[0m| 00:01 Iteration: 700 / 1000 [ 70%]  (Sampling)\u001B[A\n",
      "\n",
      "\n",
      "chain 1 |\u001B[34m██▋       \u001B[0m| 00:01 Iteration: 400 / 1000 [ 40%]  (Sampling)\u001B[A\u001B[A\u001B[A\n",
      "\n",
      "chain 1 |\u001B[34m███▏      \u001B[0m| 00:01 Iteration: 500 / 1000 [ 50%]  (Sampling)\u001B[A\u001B[A\n",
      "chain 2 |\u001B[34m████▌     \u001B[0m| 00:01 Iteration: 800 / 1000 [ 80%]  (Sampling)\u001B[A\n",
      "\n",
      "\n",
      "chain 1 |\u001B[34m███▋      \u001B[0m| 00:01 Iteration: 600 / 1000 [ 60%]  (Sampling)\u001B[A\u001B[A\u001B[A\n",
      "chain 2 |\u001B[34m█████     \u001B[0m| 00:01 Iteration: 900 / 1000 [ 90%]  (Sampling)\u001B[A\n",
      "\n",
      "\n",
      "chain 4 |\u001B[34m████▌     \u001B[0m| 00:01 Iteration: 800 / 1000 [ 80%]  (Sampling)\u001B[A\u001B[A\u001B[A\n",
      "\n",
      "chain 1 |\u001B[34m████      \u001B[0m| 00:01 Iteration: 700 / 1000 [ 70%]  (Sampling)\u001B[A\u001B[A\n",
      "\n",
      "\n",
      "chain 1 |\u001B[34m████▌     \u001B[0m| 00:01 Iteration: 800 / 1000 [ 80%]  (Sampling)\u001B[A\u001B[A\u001B[A\n",
      "\n",
      "chain 1 |\u001B[34m█████     \u001B[0m| 00:01 Iteration: 900 / 1000 [ 90%]  (Sampling)\u001B[A\u001B[A\n",
      "\n",
      "chain 3 |\u001B[34m████      \u001B[0m| 00:01 Iteration: 700 / 1000 [ 70%]  (Sampling)\u001B[A\u001B[A\n",
      "\n",
      "chain 3 |\u001B[34m████▌     \u001B[0m| 00:01 Iteration: 800 / 1000 [ 80%]  (Sampling)\u001B[A\u001B[A\n",
      "\n",
      "chain 1 |\u001B[34m██████████\u001B[0m| 00:02 Sampling completed                      \u001B[A\u001B[A\n",
      "\n",
      "chain 2 |\u001B[34m██████████\u001B[0m| 00:02 Sampling completed                      \u001B[A\n",
      "chain 3 |\u001B[34m██████████\u001B[0m| 00:02 Sampling completed                      \n",
      "\n",
      "\n",
      "\n",
      "chain 4 |\u001B[34m██████████\u001B[0m| 00:02 Sampling completed                      \u001B[A\u001B[A\u001B[A"
     ]
    },
    {
     "name": "stdout",
     "output_type": "stream",
     "text": [
      "                                                                                                                                                                                                                                                                                                                                "
     ]
    },
    {
     "name": "stderr",
     "output_type": "stream",
     "text": [
      "\n",
      "INFO:cmdstanpy:CmdStan done processing.\n"
     ]
    },
    {
     "name": "stdout",
     "output_type": "stream",
     "text": [
      "\n"
     ]
    }
   ],
   "source": [
    "result_code1 = data_generator_code1.sample(data=data)"
   ],
   "metadata": {
    "collapsed": false,
    "pycharm": {
     "name": "#%%\n"
    }
   }
  },
  {
   "cell_type": "code",
   "execution_count": 108,
   "outputs": [
    {
     "name": "stderr",
     "output_type": "stream",
     "text": [
      "INFO:cmdstanpy:found newer exe file, not recompiling\n"
     ]
    }
   ],
   "source": [
    "data_generator_code2 = CmdStanModel(stan_file = 'code_2.stan')"
   ],
   "metadata": {
    "collapsed": false,
    "pycharm": {
     "name": "#%%\n"
    }
   }
  },
  {
   "cell_type": "code",
   "execution_count": 109,
   "outputs": [
    {
     "name": "stderr",
     "output_type": "stream",
     "text": [
      "INFO:cmdstanpy:CmdStan start processing\n",
      "chain 1 |\u001B[33m          \u001B[0m| 00:00 Status\n",
      "chain 2 |\u001B[33m          \u001B[0m| 00:00 Status\u001B[A\n",
      "\n",
      "chain 3 |\u001B[33m          \u001B[0m| 00:00 Status\u001B[A\u001B[A\n",
      "\n",
      "\n",
      "chain 1 |\u001B[34m▍         \u001B[0m| 00:00 Status\u001B[A\u001B[A\u001B[A\n",
      "\n",
      "\n",
      "chain 1 |\u001B[34m▉         \u001B[0m| 00:00 Iteration:   1 / 1000 [  0%]  (Sampling)\n",
      "\n",
      "\n",
      "chain 4 |\u001B[34m▉         \u001B[0m| 00:00 Iteration:   1 / 1000 [  0%]  (Sampling)\u001B[A\u001B[A\u001B[A\n",
      "chain 2 |\u001B[34m▉         \u001B[0m| 00:01 Iteration:   1 / 1000 [  0%]  (Sampling)\u001B[A\n",
      "\n",
      "chain 1 |\u001B[34m█▎        \u001B[0m| 00:01 Iteration: 100 / 1000 [ 10%]  (Sampling)\u001B[A\u001B[A\n",
      "chain 1 |\u001B[34m█▊        \u001B[0m| 00:01 Iteration: 200 / 1000 [ 20%]  (Sampling)\u001B[A\n",
      "\n",
      "\n",
      "chain 4 |\u001B[34m█▎        \u001B[0m| 00:01 Iteration: 100 / 1000 [ 10%]  (Sampling)\u001B[A\u001B[A\u001B[A\n",
      "\n",
      "chain 1 |\u001B[34m██▎       \u001B[0m| 00:02 Iteration: 300 / 1000 [ 30%]  (Sampling)\u001B[A\u001B[A\n",
      "\n",
      "chain 3 |\u001B[34m█▊        \u001B[0m| 00:02 Iteration: 200 / 1000 [ 20%]  (Sampling)\u001B[A\u001B[A\n",
      "chain 2 |\u001B[34m█▊        \u001B[0m| 00:02 Iteration: 200 / 1000 [ 20%]  (Sampling)\u001B[A\n",
      "\n",
      "\n",
      "chain 1 |\u001B[34m██▋       \u001B[0m| 00:02 Iteration: 400 / 1000 [ 40%]  (Sampling)\u001B[A\u001B[A\u001B[A\n",
      "\n",
      "chain 3 |\u001B[34m██▎       \u001B[0m| 00:02 Iteration: 300 / 1000 [ 30%]  (Sampling)\u001B[A\u001B[A\n",
      "chain 1 |\u001B[34m███▏      \u001B[0m| 00:03 Iteration: 500 / 1000 [ 50%]  (Sampling)\u001B[A\n",
      "\n",
      "\n",
      "chain 4 |\u001B[34m██▎       \u001B[0m| 00:03 Iteration: 300 / 1000 [ 30%]  (Sampling)\u001B[A\u001B[A\u001B[A\n",
      "chain 1 |\u001B[34m███▋      \u001B[0m| 00:03 Iteration: 600 / 1000 [ 60%]  (Sampling)\u001B[A\n",
      "\n",
      "chain 3 |\u001B[34m██▋       \u001B[0m| 00:03 Iteration: 400 / 1000 [ 40%]  (Sampling)\u001B[A\u001B[A\n",
      "\n",
      "\n",
      "chain 1 |\u001B[34m████      \u001B[0m| 00:03 Iteration: 700 / 1000 [ 70%]  (Sampling)\u001B[A\u001B[A\u001B[A\n",
      "chain 2 |\u001B[34m███▏      \u001B[0m| 00:03 Iteration: 500 / 1000 [ 50%]  (Sampling)\u001B[A\n",
      "\n",
      "\n",
      "chain 4 |\u001B[34m███▏      \u001B[0m| 00:04 Iteration: 500 / 1000 [ 50%]  (Sampling)\u001B[A\u001B[A\u001B[A\n",
      "\n",
      "chain 1 |\u001B[34m████▌     \u001B[0m| 00:04 Iteration: 800 / 1000 [ 80%]  (Sampling)\u001B[A\u001B[A\n",
      "chain 2 |\u001B[34m███▋      \u001B[0m| 00:04 Iteration: 600 / 1000 [ 60%]  (Sampling)\u001B[A\n",
      "\n",
      "\n",
      "chain 1 |\u001B[34m█████     \u001B[0m| 00:04 Iteration: 900 / 1000 [ 90%]  (Sampling)\u001B[A\u001B[A\u001B[A\n",
      "\n",
      "chain 3 |\u001B[34m███▋      \u001B[0m| 00:04 Iteration: 600 / 1000 [ 60%]  (Sampling)\u001B[A\u001B[A\n",
      "chain 2 |\u001B[34m████      \u001B[0m| 00:05 Iteration: 700 / 1000 [ 70%]  (Sampling)\u001B[A\n",
      "\n",
      "\n",
      "chain 4 |\u001B[34m████      \u001B[0m| 00:05 Iteration: 700 / 1000 [ 70%]  (Sampling)\u001B[A\u001B[A\u001B[A\n",
      "\n",
      "chain 3 |\u001B[34m████      \u001B[0m| 00:05 Iteration: 700 / 1000 [ 70%]  (Sampling)\u001B[A\u001B[A\n",
      "\n",
      "\n",
      "chain 4 |\u001B[34m████▌     \u001B[0m| 00:05 Iteration: 800 / 1000 [ 80%]  (Sampling)\u001B[A\u001B[A\u001B[A\n",
      "chain 2 |\u001B[34m████▌     \u001B[0m| 00:05 Iteration: 800 / 1000 [ 80%]  (Sampling)\u001B[A\n",
      "\n",
      "chain 3 |\u001B[34m████▌     \u001B[0m| 00:05 Iteration: 800 / 1000 [ 80%]  (Sampling)\u001B[A\u001B[A\n",
      "\n",
      "\n",
      "chain 4 |\u001B[34m█████     \u001B[0m| 00:05 Iteration: 900 / 1000 [ 90%]  (Sampling)\u001B[A\u001B[A\u001B[A\n",
      "chain 2 |\u001B[34m█████     \u001B[0m| 00:05 Iteration: 900 / 1000 [ 90%]  (Sampling)\u001B[A\n",
      "\n",
      "chain 1 |\u001B[34m██████████\u001B[0m| 00:06 Sampling completed                      \u001B[A\u001B[A\n",
      "\n",
      "chain 2 |\u001B[34m██████████\u001B[0m| 00:06 Sampling completed                      \u001B[A\n",
      "chain 3 |\u001B[34m██████████\u001B[0m| 00:06 Sampling completed                      \n",
      "\n",
      "\n",
      "\n",
      "chain 4 |\u001B[34m██████████\u001B[0m| 00:06 Sampling completed                      \u001B[A\u001B[A\u001B[A"
     ]
    },
    {
     "name": "stdout",
     "output_type": "stream",
     "text": [
      "                                                                                                                                                                                                                                                                                                                                "
     ]
    },
    {
     "name": "stderr",
     "output_type": "stream",
     "text": [
      "\n",
      "INFO:cmdstanpy:CmdStan done processing.\n"
     ]
    },
    {
     "name": "stdout",
     "output_type": "stream",
     "text": [
      "\n"
     ]
    }
   ],
   "source": [
    "result_code2 = data_generator_code2.sample(data=data)"
   ],
   "metadata": {
    "collapsed": false,
    "pycharm": {
     "name": "#%%\n"
    }
   }
  },
  {
   "cell_type": "code",
   "execution_count": 110,
   "outputs": [
    {
     "name": "stdout",
     "output_type": "stream",
     "text": [
      "1100\n"
     ]
    }
   ],
   "source": [
    "X_matrix = result_code2.stan_variable('X')[0]\n",
    "print(len(X_matrix))"
   ],
   "metadata": {
    "collapsed": false,
    "pycharm": {
     "name": "#%%\n"
    }
   }
  },
  {
   "cell_type": "code",
   "execution_count": 111,
   "outputs": [
    {
     "name": "stdout",
     "output_type": "stream",
     "text": [
      "      lp__  accept_stat__  theta      y[1]      y[2]      y[3]      y[4]  \\\n",
      "0      0.0            0.0   0.01  0.569382 -0.154758  1.513240 -0.247463   \n",
      "1      0.0            0.0   0.01 -1.602090  0.617330  1.398060 -0.449808   \n",
      "2      0.0            0.0   0.01  0.987973  0.516937  0.557001  0.177141   \n",
      "3      0.0            0.0   0.01  0.394608 -0.505067 -0.459229  0.756960   \n",
      "4      0.0            0.0   0.01  2.523570  0.821839 -0.565637  1.789080   \n",
      "...    ...            ...    ...       ...       ...       ...       ...   \n",
      "3995   0.0            0.0   0.01 -0.637494 -1.224700 -1.588640  0.752165   \n",
      "3996   0.0            0.0   0.01  0.161529  3.939350  0.575608  1.691170   \n",
      "3997   0.0            0.0   0.01 -1.420710 -0.576823  2.120140 -0.381256   \n",
      "3998   0.0            0.0   0.01 -1.127640 -1.575920  1.022100  0.399471   \n",
      "3999   0.0            0.0   0.01 -0.714202  0.506663 -1.763390 -0.015111   \n",
      "\n",
      "          y[5]      y[6]      y[7]  ...   y[1091]   y[1092]   y[1093]  \\\n",
      "0     0.770925 -0.340715  1.144150  ...  1.709180  0.250513  1.160890   \n",
      "1    -1.222640 -0.446239  0.615897  ... -1.936650 -1.502270 -1.250040   \n",
      "2    -1.057240  0.168045  1.565630  ... -0.109229 -0.370677 -0.587264   \n",
      "3     0.691829  0.088412  0.960188  ...  0.043460  0.747946  0.862055   \n",
      "4    -0.656423 -1.397860 -1.658950  ... -0.661397 -0.488138 -0.694189   \n",
      "...        ...       ...       ...  ...       ...       ...       ...   \n",
      "3995 -0.162949  0.259362 -0.098159  ...  0.888485  0.203631 -0.468881   \n",
      "3996 -0.276870  1.780410  0.252194  ... -0.364187  1.900270 -1.532920   \n",
      "3997  1.040560  0.229579 -0.727837  ... -0.828972 -1.580450  0.176136   \n",
      "3998 -1.800990 -1.116690  0.590530  ...  0.633426 -1.897350 -1.520360   \n",
      "3999  0.205346  0.202236  0.275249  ...  0.571833 -1.485140 -0.009679   \n",
      "\n",
      "       y[1094]   y[1095]   y[1096]   y[1097]   y[1098]   y[1099]   y[1100]  \n",
      "0    -0.972920  0.531654  0.403334  0.451437  0.590830 -0.999965  0.889114  \n",
      "1     0.395925  0.042616 -1.612120 -1.062420  0.216517 -0.090028  1.145150  \n",
      "2    -1.592230 -0.496206  0.444724 -1.574870  1.972780 -0.628022  0.425106  \n",
      "3     0.643470 -0.379873  1.179660  0.740181 -0.526543 -0.477767 -1.156370  \n",
      "4     1.675700  0.430117  0.163169 -2.182170 -1.185110 -0.079686 -0.088459  \n",
      "...        ...       ...       ...       ...       ...       ...       ...  \n",
      "3995  0.460703  1.560000  2.037110  0.860008 -0.114794 -0.776202  0.592298  \n",
      "3996 -0.329113 -0.367334  2.502650 -1.858530 -0.476580 -1.156030  0.054359  \n",
      "3997  0.421544  1.116670  0.160779 -1.306360  0.390528 -0.916360  0.803740  \n",
      "3998 -0.956626 -1.968520  0.722312  0.078490  0.163271  2.782030 -0.608436  \n",
      "3999 -0.367468 -0.084417  1.121480  1.061030 -1.262370  0.838479 -1.243690  \n",
      "\n",
      "[4000 rows x 1103 columns]\n"
     ]
    }
   ],
   "source": [
    "x_code1=result_code1.draws_pd()\n",
    "print(x_code1)"
   ],
   "metadata": {
    "collapsed": false,
    "pycharm": {
     "name": "#%%\n"
    }
   }
  },
  {
   "cell_type": "code",
   "execution_count": 112,
   "outputs": [
    {
     "name": "stdout",
     "output_type": "stream",
     "text": [
      "y[1]       0.076295\n",
      "y[2]       0.109547\n",
      "y[3]       0.043512\n",
      "y[4]       0.077078\n",
      "y[5]       0.110918\n",
      "             ...   \n",
      "y[1096]    0.099741\n",
      "y[1097]    0.095501\n",
      "y[1098]    0.099466\n",
      "y[1099]    0.090391\n",
      "y[1100]    0.106211\n",
      "Length: 1100, dtype: float64\n"
     ]
    }
   ],
   "source": [
    "y_code1=x_code1.iloc[:,3:]\n",
    "y_mean_code1=y_code1.mean()\n",
    "print(y_mean_code1)"
   ],
   "metadata": {
    "collapsed": false,
    "pycharm": {
     "name": "#%%\n"
    }
   }
  },
  {
   "cell_type": "code",
   "execution_count": 113,
   "outputs": [
    {
     "ename": "InvalidIndexError",
     "evalue": "(slice(None, None, None), slice(None, 3, None))",
     "output_type": "error",
     "traceback": [
      "\u001B[0;31m---------------------------------------------------------------------------\u001B[0m",
      "\u001B[0;31mTypeError\u001B[0m                                 Traceback (most recent call last)",
      "File \u001B[0;32m~/PycharmProjects/test1/venv/lib/python3.9/site-packages/pandas/core/indexes/base.py:3621\u001B[0m, in \u001B[0;36mIndex.get_loc\u001B[0;34m(self, key, method, tolerance)\u001B[0m\n\u001B[1;32m   3620\u001B[0m \u001B[38;5;28;01mtry\u001B[39;00m:\n\u001B[0;32m-> 3621\u001B[0m     \u001B[38;5;28;01mreturn\u001B[39;00m \u001B[38;5;28;43mself\u001B[39;49m\u001B[38;5;241;43m.\u001B[39;49m\u001B[43m_engine\u001B[49m\u001B[38;5;241;43m.\u001B[39;49m\u001B[43mget_loc\u001B[49m\u001B[43m(\u001B[49m\u001B[43mcasted_key\u001B[49m\u001B[43m)\u001B[49m\n\u001B[1;32m   3622\u001B[0m \u001B[38;5;28;01mexcept\u001B[39;00m \u001B[38;5;167;01mKeyError\u001B[39;00m \u001B[38;5;28;01mas\u001B[39;00m err:\n",
      "File \u001B[0;32m~/PycharmProjects/test1/venv/lib/python3.9/site-packages/pandas/_libs/index.pyx:136\u001B[0m, in \u001B[0;36mpandas._libs.index.IndexEngine.get_loc\u001B[0;34m()\u001B[0m\n",
      "File \u001B[0;32m~/PycharmProjects/test1/venv/lib/python3.9/site-packages/pandas/_libs/index.pyx:142\u001B[0m, in \u001B[0;36mpandas._libs.index.IndexEngine.get_loc\u001B[0;34m()\u001B[0m\n",
      "\u001B[0;31mTypeError\u001B[0m: '(slice(None, None, None), slice(None, 3, None))' is an invalid key",
      "\nDuring handling of the above exception, another exception occurred:\n",
      "\u001B[0;31mInvalidIndexError\u001B[0m                         Traceback (most recent call last)",
      "Input \u001B[0;32mIn [113]\u001B[0m, in \u001B[0;36m<cell line: 2>\u001B[0;34m()\u001B[0m\n\u001B[1;32m      1\u001B[0m x_code2\u001B[38;5;241m=\u001B[39mresult_code2\u001B[38;5;241m.\u001B[39mdraws_pd()\n\u001B[0;32m----> 2\u001B[0m \u001B[38;5;28mprint\u001B[39m(\u001B[43mx_code2\u001B[49m\u001B[43m[\u001B[49m\u001B[43m:\u001B[49m\u001B[43m,\u001B[49m\u001B[43m:\u001B[49m\u001B[38;5;241;43m3\u001B[39;49m\u001B[43m]\u001B[49m)\n",
      "File \u001B[0;32m~/PycharmProjects/test1/venv/lib/python3.9/site-packages/pandas/core/frame.py:3505\u001B[0m, in \u001B[0;36mDataFrame.__getitem__\u001B[0;34m(self, key)\u001B[0m\n\u001B[1;32m   3503\u001B[0m \u001B[38;5;28;01mif\u001B[39;00m \u001B[38;5;28mself\u001B[39m\u001B[38;5;241m.\u001B[39mcolumns\u001B[38;5;241m.\u001B[39mnlevels \u001B[38;5;241m>\u001B[39m \u001B[38;5;241m1\u001B[39m:\n\u001B[1;32m   3504\u001B[0m     \u001B[38;5;28;01mreturn\u001B[39;00m \u001B[38;5;28mself\u001B[39m\u001B[38;5;241m.\u001B[39m_getitem_multilevel(key)\n\u001B[0;32m-> 3505\u001B[0m indexer \u001B[38;5;241m=\u001B[39m \u001B[38;5;28;43mself\u001B[39;49m\u001B[38;5;241;43m.\u001B[39;49m\u001B[43mcolumns\u001B[49m\u001B[38;5;241;43m.\u001B[39;49m\u001B[43mget_loc\u001B[49m\u001B[43m(\u001B[49m\u001B[43mkey\u001B[49m\u001B[43m)\u001B[49m\n\u001B[1;32m   3506\u001B[0m \u001B[38;5;28;01mif\u001B[39;00m is_integer(indexer):\n\u001B[1;32m   3507\u001B[0m     indexer \u001B[38;5;241m=\u001B[39m [indexer]\n",
      "File \u001B[0;32m~/PycharmProjects/test1/venv/lib/python3.9/site-packages/pandas/core/indexes/base.py:3628\u001B[0m, in \u001B[0;36mIndex.get_loc\u001B[0;34m(self, key, method, tolerance)\u001B[0m\n\u001B[1;32m   3623\u001B[0m         \u001B[38;5;28;01mraise\u001B[39;00m \u001B[38;5;167;01mKeyError\u001B[39;00m(key) \u001B[38;5;28;01mfrom\u001B[39;00m \u001B[38;5;21;01merr\u001B[39;00m\n\u001B[1;32m   3624\u001B[0m     \u001B[38;5;28;01mexcept\u001B[39;00m \u001B[38;5;167;01mTypeError\u001B[39;00m:\n\u001B[1;32m   3625\u001B[0m         \u001B[38;5;66;03m# If we have a listlike key, _check_indexing_error will raise\u001B[39;00m\n\u001B[1;32m   3626\u001B[0m         \u001B[38;5;66;03m#  InvalidIndexError. Otherwise we fall through and re-raise\u001B[39;00m\n\u001B[1;32m   3627\u001B[0m         \u001B[38;5;66;03m#  the TypeError.\u001B[39;00m\n\u001B[0;32m-> 3628\u001B[0m         \u001B[38;5;28;43mself\u001B[39;49m\u001B[38;5;241;43m.\u001B[39;49m\u001B[43m_check_indexing_error\u001B[49m\u001B[43m(\u001B[49m\u001B[43mkey\u001B[49m\u001B[43m)\u001B[49m\n\u001B[1;32m   3629\u001B[0m         \u001B[38;5;28;01mraise\u001B[39;00m\n\u001B[1;32m   3631\u001B[0m \u001B[38;5;66;03m# GH#42269\u001B[39;00m\n",
      "File \u001B[0;32m~/PycharmProjects/test1/venv/lib/python3.9/site-packages/pandas/core/indexes/base.py:5637\u001B[0m, in \u001B[0;36mIndex._check_indexing_error\u001B[0;34m(self, key)\u001B[0m\n\u001B[1;32m   5633\u001B[0m \u001B[38;5;28;01mdef\u001B[39;00m \u001B[38;5;21m_check_indexing_error\u001B[39m(\u001B[38;5;28mself\u001B[39m, key):\n\u001B[1;32m   5634\u001B[0m     \u001B[38;5;28;01mif\u001B[39;00m \u001B[38;5;129;01mnot\u001B[39;00m is_scalar(key):\n\u001B[1;32m   5635\u001B[0m         \u001B[38;5;66;03m# if key is not a scalar, directly raise an error (the code below\u001B[39;00m\n\u001B[1;32m   5636\u001B[0m         \u001B[38;5;66;03m# would convert to numpy arrays and raise later any way) - GH29926\u001B[39;00m\n\u001B[0;32m-> 5637\u001B[0m         \u001B[38;5;28;01mraise\u001B[39;00m InvalidIndexError(key)\n",
      "\u001B[0;31mInvalidIndexError\u001B[0m: (slice(None, None, None), slice(None, 3, None))"
     ]
    }
   ],
   "source": [
    "x_code2=result_code2.draws_pd()\n",
    "print(x_code2[:,:3])"
   ],
   "metadata": {
    "collapsed": false,
    "pycharm": {
     "name": "#%%\n"
    }
   }
  },
  {
   "cell_type": "code",
   "execution_count": null,
   "outputs": [],
   "source": [
    "y_code2=x_code2.iloc[:,-1100:]\n",
    "print(x_code2.iloc[:,-1100:])"
   ],
   "metadata": {
    "collapsed": false,
    "pycharm": {
     "name": "#%%\n"
    }
   }
  },
  {
   "cell_type": "code",
   "execution_count": null,
   "outputs": [],
   "source": [
    "y_mean_code2=y_code2.mean(axis=0)"
   ],
   "metadata": {
    "collapsed": false,
    "pycharm": {
     "name": "#%%\n"
    }
   }
  },
  {
   "cell_type": "code",
   "execution_count": null,
   "outputs": [],
   "source": [
    "print(y_mean_code2)"
   ],
   "metadata": {
    "collapsed": false,
    "pycharm": {
     "name": "#%%\n"
    }
   }
  },
  {
   "cell_type": "markdown",
   "source": [
    "Excercise 2 - compare normal and student models for data from first file"
   ],
   "metadata": {
    "collapsed": false,
    "pycharm": {
     "name": "#%% md\n"
    }
   }
  },
  {
   "cell_type": "code",
   "execution_count": null,
   "outputs": [],
   "source": [
    "model_code3 = CmdStanModel(stan_file='code_3.stan')\n",
    "data_model3_v1 = dict(N=N,\n",
    "                 y=y_mean_code1)\n",
    "result_model3_v1 = model_code3.sample(data=data_model3_v1)\n",
    "\n",
    "data_model3_v2 = dict(N=N,\n",
    "                 y=y_mean_code2)\n",
    "result_model3_v2 = model_code3.sample(data=data_model3_v2)"
   ],
   "metadata": {
    "collapsed": false,
    "pycharm": {
     "name": "#%%\n"
    }
   }
  },
  {
   "cell_type": "code",
   "execution_count": null,
   "outputs": [],
   "source": [
    "model_code4 = CmdStanModel(stan_file='code_4.stan')\n",
    "data_model4_v1 = dict(N=N,\n",
    "                 y=y_mean_code1)\n",
    "result_model4_v1 = model_code4.sample(data=data_model4_v1)\n",
    "\n",
    "data_model4_v2 = dict(N=N,\n",
    "                 y=y_mean_code2)\n",
    "result_model4_v2 = model_code4.sample(data=data_model4_v2)"
   ],
   "metadata": {
    "collapsed": false,
    "pycharm": {
     "name": "#%%\n"
    }
   }
  },
  {
   "cell_type": "markdown",
   "source": [
    "Compare model3"
   ],
   "metadata": {
    "collapsed": false,
    "pycharm": {
     "name": "#%% md\n"
    }
   }
  },
  {
   "cell_type": "code",
   "execution_count": null,
   "outputs": [],
   "source": [
    "az.loo(result_model3_v1)"
   ],
   "metadata": {
    "collapsed": false,
    "pycharm": {
     "name": "#%%\n"
    }
   }
  },
  {
   "cell_type": "code",
   "execution_count": null,
   "outputs": [],
   "source": [
    "az.loo(result_model3_v2)"
   ],
   "metadata": {
    "collapsed": false,
    "pycharm": {
     "name": "#%%\n"
    }
   }
  },
  {
   "cell_type": "code",
   "execution_count": null,
   "outputs": [],
   "source": [
    "az.waic(result_model3_v1)"
   ],
   "metadata": {
    "collapsed": false,
    "pycharm": {
     "name": "#%%\n"
    }
   }
  },
  {
   "cell_type": "code",
   "execution_count": null,
   "outputs": [],
   "source": [
    "az.waic(result_model3_v2)"
   ],
   "metadata": {
    "collapsed": false,
    "pycharm": {
     "name": "#%%\n"
    }
   }
  },
  {
   "cell_type": "markdown",
   "source": [
    "Compare model4"
   ],
   "metadata": {
    "collapsed": false,
    "pycharm": {
     "name": "#%% md\n"
    }
   }
  },
  {
   "cell_type": "code",
   "execution_count": null,
   "outputs": [],
   "source": [
    "az.loo(result_model4_v1)"
   ],
   "metadata": {
    "collapsed": false,
    "pycharm": {
     "name": "#%%\n"
    }
   }
  },
  {
   "cell_type": "code",
   "execution_count": null,
   "outputs": [],
   "source": [
    "az.loo(result_model4_v2)"
   ],
   "metadata": {
    "collapsed": false,
    "pycharm": {
     "name": "#%%\n"
    }
   }
  },
  {
   "cell_type": "code",
   "execution_count": null,
   "outputs": [],
   "source": [
    "az.waic(result_model4_v1)"
   ],
   "metadata": {
    "collapsed": false,
    "pycharm": {
     "name": "#%%\n"
    }
   }
  },
  {
   "cell_type": "code",
   "execution_count": null,
   "outputs": [],
   "source": [
    "az.waic(result_model4_v2)"
   ],
   "metadata": {
    "collapsed": false,
    "pycharm": {
     "name": "#%%\n"
    }
   }
  },
  {
   "cell_type": "markdown",
   "source": [
    "Compare"
   ],
   "metadata": {
    "collapsed": false,
    "pycharm": {
     "name": "#%% md\n"
    }
   }
  },
  {
   "cell_type": "code",
   "execution_count": null,
   "outputs": [],
   "source": [
    "res_model3_v1=az.from_cmdstanpy(result_model3_v1)\n",
    "res_model3_v2=az.from_cmdstanpy(result_model3_v2)"
   ],
   "metadata": {
    "collapsed": false,
    "pycharm": {
     "name": "#%%\n"
    }
   }
  },
  {
   "cell_type": "code",
   "execution_count": null,
   "outputs": [],
   "source": [
    "compare_model3=az.compare({\"1\":res_model3_v1,\"2\":res_model3_v2})\n",
    "print(compare_model3)"
   ],
   "metadata": {
    "collapsed": false,
    "pycharm": {
     "name": "#%%\n"
    }
   }
  },
  {
   "cell_type": "code",
   "execution_count": null,
   "outputs": [],
   "source": [
    "az.plot_compare(compare_model3)"
   ],
   "metadata": {
    "collapsed": false,
    "pycharm": {
     "name": "#%%\n"
    }
   }
  },
  {
   "cell_type": "code",
   "execution_count": null,
   "outputs": [],
   "source": [
    "res_model4_v1=az.from_cmdstanpy(result_model4_v1)\n",
    "res_model4_v2=az.from_cmdstanpy(result_model4_v2)"
   ],
   "metadata": {
    "collapsed": false,
    "pycharm": {
     "name": "#%%\n"
    }
   }
  },
  {
   "cell_type": "code",
   "execution_count": null,
   "outputs": [],
   "source": [
    "compare_model4=az.compare({\"1\":res_model4_v1,\"2\":res_model4_v2})\n",
    "print(compare_model4)"
   ],
   "metadata": {
    "collapsed": false,
    "pycharm": {
     "name": "#%%\n"
    }
   }
  },
  {
   "cell_type": "code",
   "execution_count": null,
   "outputs": [],
   "source": [
    "az.plot_compare(compare_model4)"
   ],
   "metadata": {
    "collapsed": false,
    "pycharm": {
     "name": "#%%\n"
    }
   }
  },
  {
   "cell_type": "markdown",
   "source": [
    "Excercise 3 - compare models with different numbers of predictors"
   ],
   "metadata": {
    "collapsed": false,
    "pycharm": {
     "name": "#%% md\n"
    }
   }
  },
  {
   "cell_type": "code",
   "execution_count": null,
   "outputs": [],
   "source": [
    "model5=CmdStanModel(stan_file='code_5.stan')"
   ],
   "metadata": {
    "collapsed": false,
    "pycharm": {
     "name": "#%%\n"
    }
   }
  },
  {
   "cell_type": "markdown",
   "source": [
    "Predictor K=1"
   ],
   "metadata": {
    "collapsed": false,
    "pycharm": {
     "name": "#%% md\n"
    }
   }
  },
  {
   "cell_type": "code",
   "execution_count": null,
   "outputs": [],
   "source": [
    "nxm=[]\n",
    "for i in X_matrix[:,0]:\n",
    "    nxm.append([i])\n",
    "\n",
    "data5_K1=dict(N=N,K=1,y=np.array(y_mean_code2),X=nxm)\n",
    "result_K1= model5.sample(data=data5_K1)"
   ],
   "metadata": {
    "collapsed": false,
    "pycharm": {
     "name": "#%%\n"
    }
   }
  },
  {
   "cell_type": "markdown",
   "source": [
    "Predictor K=2"
   ],
   "metadata": {
    "collapsed": false,
    "pycharm": {
     "name": "#%% md\n"
    }
   }
  },
  {
   "cell_type": "code",
   "execution_count": null,
   "outputs": [],
   "source": [
    "nxm=[]\n",
    "matrix_tmp = X_matrix[:,0:2]\n",
    "for i in matrix_tmp:\n",
    "    vect = []\n",
    "    for j in i:\n",
    "        vect.append(j)\n",
    "    nxm.append(vect)\n",
    "\n",
    "data5_K2=dict(N=N,K=2,y=np.array(y_mean_code2),X=nxm)\n",
    "result_K2= model5.sample(data=data5_K2)"
   ],
   "metadata": {
    "collapsed": false,
    "pycharm": {
     "name": "#%%\n"
    }
   }
  },
  {
   "cell_type": "markdown",
   "source": [
    "Predictor K = 3"
   ],
   "metadata": {
    "collapsed": false,
    "pycharm": {
     "name": "#%% md\n"
    }
   }
  },
  {
   "cell_type": "code",
   "execution_count": null,
   "outputs": [],
   "source": [
    "nxm=[]\n",
    "matrix_tmp = X_matrix[:,0:3]\n",
    "for i in matrix_tmp:\n",
    "    vect = []\n",
    "    for j in i:\n",
    "        vect.append(j)\n",
    "    nxm.append(vect)\n",
    "\n",
    "print(len(matrix_tmp[0]))\n",
    "\n",
    "data5_K3=dict(N=N,K=3,y=np.array(y_mean_code2),X=nxm)\n",
    "result_K3= model5.sample(data=data5_K3)"
   ],
   "metadata": {
    "collapsed": false,
    "pycharm": {
     "name": "#%%\n"
    }
   }
  },
  {
   "cell_type": "code",
   "execution_count": null,
   "outputs": [],
   "source": [
    "az.loo(result_K1)"
   ],
   "metadata": {
    "collapsed": false,
    "pycharm": {
     "name": "#%%\n"
    }
   }
  },
  {
   "cell_type": "code",
   "execution_count": null,
   "outputs": [],
   "source": [
    "az.loo(result_K2)"
   ],
   "metadata": {
    "collapsed": false,
    "pycharm": {
     "name": "#%%\n"
    }
   }
  },
  {
   "cell_type": "code",
   "execution_count": null,
   "outputs": [],
   "source": [
    "az.loo(result_K3)"
   ],
   "metadata": {
    "collapsed": false,
    "pycharm": {
     "name": "#%%\n"
    }
   }
  },
  {
   "cell_type": "code",
   "execution_count": null,
   "outputs": [],
   "source": [
    "az.waic(result_K1)"
   ],
   "metadata": {
    "collapsed": false,
    "pycharm": {
     "name": "#%%\n"
    }
   }
  },
  {
   "cell_type": "code",
   "execution_count": null,
   "outputs": [],
   "source": [
    "az.waic(result_K2)"
   ],
   "metadata": {
    "collapsed": false,
    "pycharm": {
     "name": "#%%\n"
    }
   }
  },
  {
   "cell_type": "code",
   "execution_count": null,
   "outputs": [],
   "source": [
    "az.waic(result_K3)"
   ],
   "metadata": {
    "collapsed": false,
    "pycharm": {
     "name": "#%%\n"
    }
   }
  },
  {
   "cell_type": "code",
   "execution_count": null,
   "outputs": [],
   "source": [
    "compare_model5_K1=az.from_cmdstanpy(result_K1)\n",
    "compare_model5_K2=az.from_cmdstanpy(result_K2)\n",
    "compare_model5_K3=az.from_cmdstanpy(result_K3)\n",
    "\n",
    "compare_result_model5=az.compare({\"1\":compare_model5_K1,\"2\":compare_model5_K2, \"3\":compare_model5_K3})\n",
    "compare_result_model5"
   ],
   "metadata": {
    "collapsed": false,
    "pycharm": {
     "name": "#%%\n"
    }
   }
  },
  {
   "cell_type": "code",
   "execution_count": null,
   "outputs": [],
   "source": [
    "az.plot_compare(compare_result_model5)"
   ],
   "metadata": {
    "collapsed": false,
    "pycharm": {
     "name": "#%%\n"
    }
   }
  }
 ],
 "metadata": {
  "kernelspec": {
   "display_name": "Python 3",
   "language": "python",
   "name": "python3"
  },
  "language_info": {
   "codemirror_mode": {
    "name": "ipython",
    "version": 2
   },
   "file_extension": ".py",
   "mimetype": "text/x-python",
   "name": "python",
   "nbconvert_exporter": "python",
   "pygments_lexer": "ipython2",
   "version": "2.7.6"
  }
 },
 "nbformat": 4,
 "nbformat_minor": 0
}